{
 "cells": [
  {
   "cell_type": "code",
   "execution_count": 224,
   "metadata": {},
   "outputs": [],
   "source": [
    "import warnings\n",
    "warnings.filterwarnings(\"ignore\")\n",
    "warnings.filterwarnings(\"default\")\n",
    "\n",
    "import pandas as pd\n",
    "import numpy as np\n",
    "import matplotlib.pyplot as plt\n",
    "import seaborn as sns\n",
    "import statsmodels.api as sm\n",
    "import plotly.express as px\n",
    "import plotly.graph_objects as go\n",
    "import plotly.figure_factory as ff\n",
    "import scipy\n",
    "import math\n",
    "\n",
    "from plotly.subplots import make_subplots\n",
    "\n",
    "from sklearn import metrics\n",
    "from sklearn.model_selection import train_test_split, GridSearchCV\n",
    "from sklearn.linear_model import LinearRegression, LogisticRegression, Ridge, RidgeCV, Lasso\n",
    "from sklearn.metrics import confusion_matrix, ConfusionMatrixDisplay\n",
    "from sklearn.metrics import accuracy_score, precision_score, recall_score, f1_score, classification_report\n",
    "from sklearn.metrics import mean_squared_error,  mean_absolute_error, mean_absolute_percentage_error, r2_score\n",
    "from sklearn.impute import SimpleImputer\n",
    "from sklearn.preprocessing import OneHotEncoder, StandardScaler, MinMaxScaler\n",
    "from sklearn.compose import ColumnTransformer\n",
    "from sklearn import tree\n",
    "from sklearn.tree import plot_tree\n",
    "from sklearn.ensemble import RandomForestClassifier\n",
    "from sklearn.ensemble import GradientBoostingClassifier\n",
    "\n",
    "from itertools import product\n",
    "\n",
    "%matplotlib inline"
   ]
  },
  {
   "cell_type": "markdown",
   "metadata": {},
   "source": [
    "### <font color='157699'> **Importar Datos** </font>\n",
    "---"
   ]
  },
  {
   "cell_type": "code",
   "execution_count": 225,
   "metadata": {},
   "outputs": [
    {
     "data": {
      "text/html": [
       "<div>\n",
       "<style scoped>\n",
       "    .dataframe tbody tr th:only-of-type {\n",
       "        vertical-align: middle;\n",
       "    }\n",
       "\n",
       "    .dataframe tbody tr th {\n",
       "        vertical-align: top;\n",
       "    }\n",
       "\n",
       "    .dataframe thead th {\n",
       "        text-align: right;\n",
       "    }\n",
       "</style>\n",
       "<table border=\"1\" class=\"dataframe\">\n",
       "  <thead>\n",
       "    <tr style=\"text-align: right;\">\n",
       "      <th></th>\n",
       "      <th>Reviews</th>\n",
       "      <th>Reviews_Duration</th>\n",
       "      <th>Informational</th>\n",
       "      <th>Informational_Duration</th>\n",
       "      <th>ProductRelated</th>\n",
       "      <th>ProductRelated_Duration</th>\n",
       "      <th>BounceRates</th>\n",
       "      <th>ExitRates</th>\n",
       "      <th>PageValues</th>\n",
       "      <th>SpecialDay</th>\n",
       "      <th>Month</th>\n",
       "      <th>OperatingSystems</th>\n",
       "      <th>Browser</th>\n",
       "      <th>Region</th>\n",
       "      <th>TrafficType</th>\n",
       "      <th>VisitorType</th>\n",
       "      <th>Weekend</th>\n",
       "      <th>Purchase</th>\n",
       "    </tr>\n",
       "  </thead>\n",
       "  <tbody>\n",
       "    <tr>\n",
       "      <th>0</th>\n",
       "      <td>0</td>\n",
       "      <td>0.0</td>\n",
       "      <td>0</td>\n",
       "      <td>0.0</td>\n",
       "      <td>1</td>\n",
       "      <td>0.000000</td>\n",
       "      <td>0.200000</td>\n",
       "      <td>0.200000</td>\n",
       "      <td>0.0</td>\n",
       "      <td>0.0</td>\n",
       "      <td>Feb</td>\n",
       "      <td>1</td>\n",
       "      <td>1</td>\n",
       "      <td>1</td>\n",
       "      <td>1</td>\n",
       "      <td>Returning_Visitor</td>\n",
       "      <td>False</td>\n",
       "      <td>False</td>\n",
       "    </tr>\n",
       "    <tr>\n",
       "      <th>1</th>\n",
       "      <td>0</td>\n",
       "      <td>0.0</td>\n",
       "      <td>0</td>\n",
       "      <td>0.0</td>\n",
       "      <td>2</td>\n",
       "      <td>64.000000</td>\n",
       "      <td>0.000000</td>\n",
       "      <td>0.100000</td>\n",
       "      <td>0.0</td>\n",
       "      <td>0.0</td>\n",
       "      <td>Feb</td>\n",
       "      <td>2</td>\n",
       "      <td>2</td>\n",
       "      <td>1</td>\n",
       "      <td>2</td>\n",
       "      <td>Returning_Visitor</td>\n",
       "      <td>False</td>\n",
       "      <td>False</td>\n",
       "    </tr>\n",
       "    <tr>\n",
       "      <th>2</th>\n",
       "      <td>0</td>\n",
       "      <td>0.0</td>\n",
       "      <td>0</td>\n",
       "      <td>0.0</td>\n",
       "      <td>1</td>\n",
       "      <td>0.000000</td>\n",
       "      <td>0.200000</td>\n",
       "      <td>0.200000</td>\n",
       "      <td>0.0</td>\n",
       "      <td>0.0</td>\n",
       "      <td>Feb</td>\n",
       "      <td>4</td>\n",
       "      <td>1</td>\n",
       "      <td>9</td>\n",
       "      <td>3</td>\n",
       "      <td>Returning_Visitor</td>\n",
       "      <td>False</td>\n",
       "      <td>False</td>\n",
       "    </tr>\n",
       "    <tr>\n",
       "      <th>3</th>\n",
       "      <td>0</td>\n",
       "      <td>0.0</td>\n",
       "      <td>0</td>\n",
       "      <td>0.0</td>\n",
       "      <td>2</td>\n",
       "      <td>2.666667</td>\n",
       "      <td>0.050000</td>\n",
       "      <td>0.140000</td>\n",
       "      <td>0.0</td>\n",
       "      <td>0.0</td>\n",
       "      <td>Feb</td>\n",
       "      <td>3</td>\n",
       "      <td>2</td>\n",
       "      <td>2</td>\n",
       "      <td>4</td>\n",
       "      <td>Returning_Visitor</td>\n",
       "      <td>False</td>\n",
       "      <td>False</td>\n",
       "    </tr>\n",
       "    <tr>\n",
       "      <th>4</th>\n",
       "      <td>0</td>\n",
       "      <td>0.0</td>\n",
       "      <td>0</td>\n",
       "      <td>0.0</td>\n",
       "      <td>10</td>\n",
       "      <td>627.500000</td>\n",
       "      <td>0.020000</td>\n",
       "      <td>0.050000</td>\n",
       "      <td>0.0</td>\n",
       "      <td>0.0</td>\n",
       "      <td>Feb</td>\n",
       "      <td>3</td>\n",
       "      <td>3</td>\n",
       "      <td>1</td>\n",
       "      <td>4</td>\n",
       "      <td>Returning_Visitor</td>\n",
       "      <td>True</td>\n",
       "      <td>False</td>\n",
       "    </tr>\n",
       "    <tr>\n",
       "      <th>5</th>\n",
       "      <td>0</td>\n",
       "      <td>0.0</td>\n",
       "      <td>0</td>\n",
       "      <td>0.0</td>\n",
       "      <td>19</td>\n",
       "      <td>154.216667</td>\n",
       "      <td>0.015789</td>\n",
       "      <td>0.024561</td>\n",
       "      <td>0.0</td>\n",
       "      <td>0.0</td>\n",
       "      <td>Feb</td>\n",
       "      <td>2</td>\n",
       "      <td>2</td>\n",
       "      <td>1</td>\n",
       "      <td>3</td>\n",
       "      <td>Returning_Visitor</td>\n",
       "      <td>False</td>\n",
       "      <td>False</td>\n",
       "    </tr>\n",
       "    <tr>\n",
       "      <th>6</th>\n",
       "      <td>0</td>\n",
       "      <td>0.0</td>\n",
       "      <td>0</td>\n",
       "      <td>0.0</td>\n",
       "      <td>1</td>\n",
       "      <td>0.000000</td>\n",
       "      <td>0.200000</td>\n",
       "      <td>0.200000</td>\n",
       "      <td>0.0</td>\n",
       "      <td>0.4</td>\n",
       "      <td>Feb</td>\n",
       "      <td>2</td>\n",
       "      <td>4</td>\n",
       "      <td>3</td>\n",
       "      <td>3</td>\n",
       "      <td>Returning_Visitor</td>\n",
       "      <td>False</td>\n",
       "      <td>False</td>\n",
       "    </tr>\n",
       "    <tr>\n",
       "      <th>7</th>\n",
       "      <td>1</td>\n",
       "      <td>0.0</td>\n",
       "      <td>0</td>\n",
       "      <td>0.0</td>\n",
       "      <td>0</td>\n",
       "      <td>0.000000</td>\n",
       "      <td>0.200000</td>\n",
       "      <td>0.200000</td>\n",
       "      <td>0.0</td>\n",
       "      <td>0.0</td>\n",
       "      <td>Feb</td>\n",
       "      <td>1</td>\n",
       "      <td>2</td>\n",
       "      <td>1</td>\n",
       "      <td>5</td>\n",
       "      <td>Returning_Visitor</td>\n",
       "      <td>True</td>\n",
       "      <td>False</td>\n",
       "    </tr>\n",
       "    <tr>\n",
       "      <th>8</th>\n",
       "      <td>0</td>\n",
       "      <td>0.0</td>\n",
       "      <td>0</td>\n",
       "      <td>0.0</td>\n",
       "      <td>2</td>\n",
       "      <td>37.000000</td>\n",
       "      <td>0.000000</td>\n",
       "      <td>0.100000</td>\n",
       "      <td>0.0</td>\n",
       "      <td>0.8</td>\n",
       "      <td>Feb</td>\n",
       "      <td>2</td>\n",
       "      <td>2</td>\n",
       "      <td>2</td>\n",
       "      <td>3</td>\n",
       "      <td>Returning_Visitor</td>\n",
       "      <td>False</td>\n",
       "      <td>False</td>\n",
       "    </tr>\n",
       "    <tr>\n",
       "      <th>9</th>\n",
       "      <td>0</td>\n",
       "      <td>0.0</td>\n",
       "      <td>0</td>\n",
       "      <td>0.0</td>\n",
       "      <td>3</td>\n",
       "      <td>738.000000</td>\n",
       "      <td>0.000000</td>\n",
       "      <td>0.022222</td>\n",
       "      <td>0.0</td>\n",
       "      <td>0.4</td>\n",
       "      <td>Feb</td>\n",
       "      <td>2</td>\n",
       "      <td>4</td>\n",
       "      <td>1</td>\n",
       "      <td>2</td>\n",
       "      <td>Returning_Visitor</td>\n",
       "      <td>False</td>\n",
       "      <td>False</td>\n",
       "    </tr>\n",
       "  </tbody>\n",
       "</table>\n",
       "</div>"
      ],
      "text/plain": [
       "   Reviews  Reviews_Duration  Informational  Informational_Duration  \\\n",
       "0        0               0.0              0                     0.0   \n",
       "1        0               0.0              0                     0.0   \n",
       "2        0               0.0              0                     0.0   \n",
       "3        0               0.0              0                     0.0   \n",
       "4        0               0.0              0                     0.0   \n",
       "5        0               0.0              0                     0.0   \n",
       "6        0               0.0              0                     0.0   \n",
       "7        1               0.0              0                     0.0   \n",
       "8        0               0.0              0                     0.0   \n",
       "9        0               0.0              0                     0.0   \n",
       "\n",
       "   ProductRelated  ProductRelated_Duration  BounceRates  ExitRates  \\\n",
       "0               1                 0.000000     0.200000   0.200000   \n",
       "1               2                64.000000     0.000000   0.100000   \n",
       "2               1                 0.000000     0.200000   0.200000   \n",
       "3               2                 2.666667     0.050000   0.140000   \n",
       "4              10               627.500000     0.020000   0.050000   \n",
       "5              19               154.216667     0.015789   0.024561   \n",
       "6               1                 0.000000     0.200000   0.200000   \n",
       "7               0                 0.000000     0.200000   0.200000   \n",
       "8               2                37.000000     0.000000   0.100000   \n",
       "9               3               738.000000     0.000000   0.022222   \n",
       "\n",
       "   PageValues  SpecialDay Month  OperatingSystems  Browser  Region  \\\n",
       "0         0.0         0.0   Feb                 1        1       1   \n",
       "1         0.0         0.0   Feb                 2        2       1   \n",
       "2         0.0         0.0   Feb                 4        1       9   \n",
       "3         0.0         0.0   Feb                 3        2       2   \n",
       "4         0.0         0.0   Feb                 3        3       1   \n",
       "5         0.0         0.0   Feb                 2        2       1   \n",
       "6         0.0         0.4   Feb                 2        4       3   \n",
       "7         0.0         0.0   Feb                 1        2       1   \n",
       "8         0.0         0.8   Feb                 2        2       2   \n",
       "9         0.0         0.4   Feb                 2        4       1   \n",
       "\n",
       "   TrafficType        VisitorType  Weekend  Purchase  \n",
       "0            1  Returning_Visitor    False     False  \n",
       "1            2  Returning_Visitor    False     False  \n",
       "2            3  Returning_Visitor    False     False  \n",
       "3            4  Returning_Visitor    False     False  \n",
       "4            4  Returning_Visitor     True     False  \n",
       "5            3  Returning_Visitor    False     False  \n",
       "6            3  Returning_Visitor    False     False  \n",
       "7            5  Returning_Visitor     True     False  \n",
       "8            3  Returning_Visitor    False     False  \n",
       "9            2  Returning_Visitor    False     False  "
      ]
     },
     "execution_count": 225,
     "metadata": {},
     "output_type": "execute_result"
    }
   ],
   "source": [
    "# Lectura de archivo csv\n",
    "df_original = pd.read_csv(\"https://raw.githubusercontent.com/Leostark95/Analitica_II_Proyecto_1/main/data/ecommerce-data.csv\", sep=\",\")\n",
    "\n",
    "# Obtener los 10 primeros registros\n",
    "df_original.head(10)"
   ]
  },
  {
   "cell_type": "markdown",
   "metadata": {},
   "source": [
    "### <font color='157699'> **Transformación de Variables** </font>\n",
    "---"
   ]
  },
  {
   "cell_type": "code",
   "execution_count": 226,
   "metadata": {},
   "outputs": [],
   "source": [
    "df_original[['Weekend', 'Purchase']] = df_original[['Weekend', 'Purchase']].astype(int)\n",
    "df_original[['OperatingSystems','Browser',\n",
    "             'Region', 'TrafficType', 'VisitorType']] = df_original[['OperatingSystems', 'Browser', 'Region', 'TrafficType', 'VisitorType']].astype(str)"
   ]
  },
  {
   "cell_type": "code",
   "execution_count": 227,
   "metadata": {},
   "outputs": [],
   "source": [
    "# Variables numéricas\n",
    "\n",
    "df_nums = df_original.select_dtypes(include=['int64', 'int32', 'float64'])"
   ]
  },
  {
   "cell_type": "code",
   "execution_count": 228,
   "metadata": {},
   "outputs": [],
   "source": [
    "# Variables numéricas escaladas\n",
    "\n",
    "scaler = MinMaxScaler()\n",
    "df_nums_scaled = pd.DataFrame(scaler.fit_transform(df_nums), columns=df_nums.columns)"
   ]
  },
  {
   "cell_type": "code",
   "execution_count": 229,
   "metadata": {},
   "outputs": [],
   "source": [
    "# Variables categóricas\n",
    "\n",
    "df_cats = df_original.select_dtypes(include=['object'])"
   ]
  },
  {
   "cell_type": "code",
   "execution_count": 230,
   "metadata": {},
   "outputs": [],
   "source": [
    "# Variables categóricas dummizadas\n",
    "\n",
    "df_cats_dummies = pd.get_dummies(df_cats)"
   ]
  },
  {
   "cell_type": "markdown",
   "metadata": {},
   "source": [
    "### <font color='157699'> **Dataframes** </font>\n",
    "---"
   ]
  },
  {
   "cell_type": "code",
   "execution_count": 231,
   "metadata": {},
   "outputs": [],
   "source": [
    "# df concatenado variables numéricas y dummizadas\n",
    "\n",
    "df = pd.concat([df_nums, df_cats_dummies], axis=1)"
   ]
  },
  {
   "cell_type": "code",
   "execution_count": 312,
   "metadata": {},
   "outputs": [],
   "source": [
    "df.drop_duplicates(inplace=True)"
   ]
  },
  {
   "cell_type": "code",
   "execution_count": 313,
   "metadata": {},
   "outputs": [
    {
     "data": {
      "text/plain": [
       "0"
      ]
     },
     "execution_count": 313,
     "metadata": {},
     "output_type": "execute_result"
    }
   ],
   "source": [
    "df.duplicated().sum()"
   ]
  },
  {
   "cell_type": "code",
   "execution_count": 232,
   "metadata": {},
   "outputs": [],
   "source": [
    "# df_1 concatenado variables escaladas y dummizadas\n",
    "\n",
    "df_final = pd.concat([df_nums_scaled, df_cats_dummies], axis=1)"
   ]
  },
  {
   "cell_type": "code",
   "execution_count": 233,
   "metadata": {},
   "outputs": [],
   "source": [
    "df_final.drop_duplicates(inplace=True)\n"
   ]
  },
  {
   "cell_type": "code",
   "execution_count": 234,
   "metadata": {},
   "outputs": [
    {
     "data": {
      "text/plain": [
       "0"
      ]
     },
     "execution_count": 234,
     "metadata": {},
     "output_type": "execute_result"
    }
   ],
   "source": [
    "df_final.duplicated().sum()"
   ]
  },
  {
   "cell_type": "markdown",
   "metadata": {},
   "source": [
    "---"
   ]
  },
  {
   "cell_type": "code",
   "execution_count": 316,
   "metadata": {},
   "outputs": [],
   "source": [
    "X1 = df.drop('Purchase', axis=1)\n",
    "y1 = df['Purchase']"
   ]
  },
  {
   "cell_type": "code",
   "execution_count": 317,
   "metadata": {},
   "outputs": [
    {
     "name": "stdout",
     "output_type": "stream",
     "text": [
      "Tamaño del conjunto de entrenamiento:  (9764, 74)\n",
      "Tamaño del conjunto de validación:  (2441, 74)\n"
     ]
    }
   ],
   "source": [
    "X1_train, X1_test, y1_train, y1_test = train_test_split(X1, y1, test_size=0.2, random_state=42)\n",
    "\n",
    "print('Tamaño del conjunto de entrenamiento: ', X1_train.shape)\n",
    "print('Tamaño del conjunto de validación: ', X1_test.shape)"
   ]
  },
  {
   "cell_type": "code",
   "execution_count": 235,
   "metadata": {},
   "outputs": [],
   "source": [
    "X = df_final.drop('Purchase', axis=1)\n",
    "y = df_final['Purchase']"
   ]
  },
  {
   "cell_type": "code",
   "execution_count": 236,
   "metadata": {},
   "outputs": [
    {
     "name": "stdout",
     "output_type": "stream",
     "text": [
      "Tamaño del conjunto de entrenamiento:  (9764, 74)\n",
      "Tamaño del conjunto de validación:  (2441, 74)\n"
     ]
    }
   ],
   "source": [
    "X_train, X_test, y_train, y_test = train_test_split(X, y, test_size=0.2, random_state=42)\n",
    "\n",
    "print('Tamaño del conjunto de entrenamiento: ', X_train.shape)\n",
    "print('Tamaño del conjunto de validación: ', X_test.shape)"
   ]
  },
  {
   "cell_type": "markdown",
   "metadata": {},
   "source": [
    "---"
   ]
  },
  {
   "cell_type": "code",
   "execution_count": 237,
   "metadata": {},
   "outputs": [
    {
     "data": {
      "image/png": "[encoded data removed]",
      "text/plain": [
       "<Figure size 800x600 with 1 Axes>"
      ]
     },
     "metadata": {},
     "output_type": "display_data"
    }
   ],
   "source": [
    "# Conteo de la varibale objetivo Purchase\n",
    "conteo_purchase = df_final['Purchase'].value_counts()\n",
    "\n",
    "# Colores personalizados para las barras\n",
    "colores = sns.color_palette('pastel', len(conteo_purchase))\n",
    "\n",
    "# Crear el gráfico de barras con los mismos colores\n",
    "plt.figure(figsize=(8, 6))\n",
    "ax = sns.barplot(x=conteo_purchase.index, y=conteo_purchase.values, palette=colores)\n",
    "\n",
    "# Añadir etiquetas y título\n",
    "plt.xlabel('Purchase')\n",
    "plt.ylabel('Count')\n",
    "plt.title('Cantidad de Purchase')\n",
    "\n",
    "# Añadir etiquetas a las barras\n",
    "for i, v in enumerate(conteo_purchase.values):\n",
    "    ax.text(i, v + 0.1, str(v), ha='center', va='bottom', fontsize=9)\n",
    "\n",
    "# Mostrar el gráfico\n",
    "plt.show()"
   ]
  },
  {
   "cell_type": "markdown",
   "metadata": {},
   "source": [
    "# <font color='157699'> **Modelo Base** </font>\n",
    "---"
   ]
  },
  {
   "cell_type": "code",
   "execution_count": 238,
   "metadata": {},
   "outputs": [
    {
     "name": "stdout",
     "output_type": "stream",
     "text": [
      "Exactitud en el entrenamiento: 0.8746\n"
     ]
    }
   ],
   "source": [
    "modelo_base = LogisticRegression(max_iter=10000)\n",
    "modelo_base.fit(X_train, y_train)\n",
    "y_train_pred = modelo_base.predict(X_train)\n",
    "\n",
    "print('Exactitud en el entrenamiento: %.4f'  %accuracy_score(y_train, y_train_pred))"
   ]
  },
  {
   "cell_type": "code",
   "execution_count": 239,
   "metadata": {},
   "outputs": [
    {
     "name": "stdout",
     "output_type": "stream",
     "text": [
      "Exactitud en la validacion: 0.8824\n"
     ]
    }
   ],
   "source": [
    "y_pred = modelo_base.predict(X_test)\n",
    "\n",
    "print('Exactitud en la validacion: %.4f'  %accuracy_score(y_test, y_pred))"
   ]
  },
  {
   "cell_type": "code",
   "execution_count": 240,
   "metadata": {},
   "outputs": [
    {
     "data": {
      "image/png": "[encoded data removed]",
      "text/plain": [
       "<Figure size 640x480 with 2 Axes>"
      ]
     },
     "metadata": {},
     "output_type": "display_data"
    }
   ],
   "source": [
    "# Matriz de confusión del modelo base\n",
    "\n",
    "mc_base = confusion_matrix(y_test, y_pred)\n",
    "mc_base_display = ConfusionMatrixDisplay(confusion_matrix = mc_base, display_labels = ['No compra', 'Compra'])\n",
    "mc_base_display.plot()\n",
    "plt.show()"
   ]
  },
  {
   "cell_type": "code",
   "execution_count": 241,
   "metadata": {},
   "outputs": [
    {
     "name": "stdout",
     "output_type": "stream",
     "text": [
      "Train - Accuracy : 0.8746415403523147\n",
      "Train - classification report:\n",
      "               precision    recall  f1-score   support\n",
      "\n",
      "         0.0     0.8804    0.9848    0.9297      8218\n",
      "         1.0     0.7815    0.2891    0.4221      1546\n",
      "\n",
      "    accuracy                         0.8746      9764\n",
      "   macro avg     0.8310    0.6370    0.6759      9764\n",
      "weighted avg     0.8648    0.8746    0.8493      9764\n",
      "\n",
      "Test - Accuracy : 0.882425235559197\n",
      "Test - classification report:\n",
      "               precision    recall  f1-score   support\n",
      "\n",
      "         0.0     0.8869    0.9880    0.9347      2079\n",
      "         1.0     0.8000    0.2762    0.4107       362\n",
      "\n",
      "    accuracy                         0.8824      2441\n",
      "   macro avg     0.8434    0.6321    0.6727      2441\n",
      "weighted avg     0.8740    0.8824    0.8570      2441\n",
      "\n"
     ]
    }
   ],
   "source": [
    "# Métricas de desempeño\n",
    "\n",
    "print (\"Train - Accuracy :\", metrics.accuracy_score(y_train, modelo_base.predict(X_train)))\n",
    "print (\"Train - classification report:\\n\", metrics.classification_report(y_train, modelo_base.predict(X_train), digits=4))\n",
    "print (\"Test - Accuracy :\", metrics.accuracy_score(y_test, modelo_base.predict(X_test)))\n",
    "print (\"Test - classification report:\\n\", metrics.classification_report(y_test, modelo_base.predict(X_test), digits=4))"
   ]
  },
  {
   "cell_type": "code",
   "execution_count": 242,
   "metadata": {},
   "outputs": [
    {
     "name": "stdout",
     "output_type": "stream",
     "text": [
      "AUC del modelo base: 0.8833\n"
     ]
    }
   ],
   "source": [
    "from sklearn.metrics import roc_auc_score\n",
    "\n",
    "y_pred_proba_base = modelo_base.predict_proba(X_test)[:, 1]\n",
    "auc_score = roc_auc_score(y_test, y_pred_proba_base)\n",
    "print(\"AUC del modelo base:\", round(auc_score, 4))"
   ]
  },
  {
   "cell_type": "markdown",
   "metadata": {},
   "source": [
    "### <font color='157699'> **Con Balanceo de Clases** </font>\n",
    "---"
   ]
  },
  {
   "cell_type": "code",
   "execution_count": 243,
   "metadata": {},
   "outputs": [
    {
     "name": "stdout",
     "output_type": "stream",
     "text": [
      "Tamaño del conjunto de entrenamiento:  (9764, 74)\n",
      "Tamaño del conjunto de validación:  (2441, 74)\n"
     ]
    }
   ],
   "source": [
    "X_train_balance, X_test_balance, y_train_balance, y_test_balance = train_test_split(X, y, test_size=0.2, random_state=42)\n",
    "\n",
    "print('Tamaño del conjunto de entrenamiento: ', X_train_balance.shape)\n",
    "print('Tamaño del conjunto de validación: ', X_test_balance.shape)"
   ]
  },
  {
   "cell_type": "code",
   "execution_count": 244,
   "metadata": {},
   "outputs": [
    {
     "name": "stdout",
     "output_type": "stream",
     "text": [
      "Exactitud en el entrenamiento: 0.8181\n"
     ]
    }
   ],
   "source": [
    "modelo_balance = LogisticRegression(class_weight = \"balanced\", random_state=123, max_iter=10000)\n",
    "modelo_balance.fit(X_train_balance, y_train_balance)\n",
    "y_train_pred_balance = modelo_balance.predict(X_train_balance)\n",
    "\n",
    "print('Exactitud en el entrenamiento: %.4f'  %accuracy_score(y_train, y_train_pred_balance))"
   ]
  },
  {
   "cell_type": "code",
   "execution_count": 245,
   "metadata": {},
   "outputs": [
    {
     "name": "stdout",
     "output_type": "stream",
     "text": [
      "Exactitud en el validacion: 0.8267\n"
     ]
    }
   ],
   "source": [
    "y_pred_balance = modelo_balance.predict(X_test_balance)\n",
    "\n",
    "print('Exactitud en el validacion: %.4f'  %accuracy_score(y_test_balance, y_pred_balance))"
   ]
  },
  {
   "cell_type": "code",
   "execution_count": 246,
   "metadata": {},
   "outputs": [
    {
     "data": {
      "image/png": "[encoded data removed]",
      "text/plain": [
       "<Figure size 640x480 with 2 Axes>"
      ]
     },
     "metadata": {},
     "output_type": "display_data"
    }
   ],
   "source": [
    "# Matriz de confunsión del modelo con balanceo\n",
    "\n",
    "mc_balance = confusion_matrix(y_test_balance, y_pred_balance)\n",
    "mc_display_balance = ConfusionMatrixDisplay(confusion_matrix = mc_balance, display_labels = ['No compra', 'Compra'])\n",
    "mc_display_balance.plot()\n",
    "plt.show()"
   ]
  },
  {
   "cell_type": "code",
   "execution_count": 247,
   "metadata": {},
   "outputs": [
    {
     "name": "stdout",
     "output_type": "stream",
     "text": [
      "Train - Accuracy : 0.8181073330602212\n",
      "Train - classification report:\n",
      "               precision    recall  f1-score   support\n",
      "\n",
      "         0.0     0.9521    0.8254    0.8842      8218\n",
      "         1.0     0.4564    0.7794    0.5757      1546\n",
      "\n",
      "    accuracy                         0.8181      9764\n",
      "   macro avg     0.7043    0.8024    0.7300      9764\n",
      "weighted avg     0.8736    0.8181    0.8354      9764\n",
      "\n",
      "Test - Accuracy : 0.8267103646046702\n",
      "Test - classification report\n",
      ":               precision    recall  f1-score   support\n",
      "\n",
      "         0.0     0.9515    0.8393    0.8919      2079\n",
      "         1.0     0.4498    0.7541    0.5635       362\n",
      "\n",
      "    accuracy                         0.8267      2441\n",
      "   macro avg     0.7006    0.7967    0.7277      2441\n",
      "weighted avg     0.8771    0.8267    0.8432      2441\n",
      "\n"
     ]
    }
   ],
   "source": [
    "# Métricas de desempeño\n",
    "\n",
    "print (\"Train - Accuracy :\", metrics.accuracy_score(y_train_balance, modelo_balance.predict(X_train_balance)))\n",
    "print (\"Train - classification report:\\n\", metrics.classification_report(y_train_balance, modelo_balance.predict(X_train_balance), digits=4))\n",
    "print (\"Test - Accuracy :\", metrics.accuracy_score(y_test_balance, modelo_balance.predict(X_test_balance)))\n",
    "print (\"Test - classification report\\n:\", metrics.classification_report(y_test_balance, modelo_balance.predict(X_test_balance), digits=4))"
   ]
  },
  {
   "cell_type": "code",
   "execution_count": 248,
   "metadata": {},
   "outputs": [
    {
     "name": "stdout",
     "output_type": "stream",
     "text": [
      "AUC del modelo base: 0.8926\n"
     ]
    }
   ],
   "source": [
    "# AUC\n",
    "from sklearn.metrics import roc_auc_score\n",
    "\n",
    "y_pred_proba_balance = modelo_balance.predict_proba(X_test_balance)[:, 1]\n",
    "auc_score = roc_auc_score(y_test_balance, y_pred_proba_balance)\n",
    "print(\"AUC del modelo base:\", round(auc_score, 4))"
   ]
  },
  {
   "cell_type": "markdown",
   "metadata": {},
   "source": [
    "# <font color='056938'> **Selección de Características** </font>\n",
    "---"
   ]
  },
  {
   "cell_type": "markdown",
   "metadata": {},
   "source": [
    "### <font color='157699'> **Con Método Wrapper (RFE)** </font>\n",
    "---"
   ]
  },
  {
   "cell_type": "code",
   "execution_count": 249,
   "metadata": {},
   "outputs": [],
   "source": [
    "from sklearn.feature_selection import RFE\n",
    "from sklearn.linear_model import LogisticRegression\n",
    "\n",
    "def recursive_feature_selection(X,y,model,k):\n",
    "  rfe = RFE(model, n_features_to_select=k, step=1)\n",
    "  fit = rfe.fit(X, y)\n",
    "  X_new = fit.support_\n",
    "  print(\"Num Features: %s\" % (fit.n_features_))\n",
    "  print(\"Selected Features: %s\" % (fit.support_))\n",
    "  print(\"Feature Ranking: %s\" % (fit.ranking_))\n",
    "\n",
    "  return X_new"
   ]
  },
  {
   "cell_type": "code",
   "execution_count": 250,
   "metadata": {},
   "outputs": [
    {
     "name": "stdout",
     "output_type": "stream",
     "text": [
      "Num Features: 30\n",
      "Selected Features: [False  True  True  True  True  True  True  True  True  True False  True\n",
      " False  True  True False False False  True  True  True False False False\n",
      " False False  True  True False False False False  True  True False  True\n",
      " False False  True False False False False False False False False False\n",
      " False False False False False  True False  True False  True  True False\n",
      "  True False False False  True False  True False False  True False False\n",
      "  True False]\n",
      "Feature Ranking: [13  1  1  1  1  1  1  1  1  1 25  1 12  1  1 24 14 23  1  1  1 39 16  4\n",
      " 17 43  1  1  3 20 30 42  1  1 21  1 26  8  1 22 40 29 33 18 31 38 11 34\n",
      " 32 36 10 28  2  1 44  1  9  1  1 45  1 19 15  7  1 35  1 27  5  1 41  6\n",
      "  1 37]\n"
     ]
    },
    {
     "data": {
      "text/html": [
       "<div>\n",
       "<style scoped>\n",
       "    .dataframe tbody tr th:only-of-type {\n",
       "        vertical-align: middle;\n",
       "    }\n",
       "\n",
       "    .dataframe tbody tr th {\n",
       "        vertical-align: top;\n",
       "    }\n",
       "\n",
       "    .dataframe thead th {\n",
       "        text-align: right;\n",
       "    }\n",
       "</style>\n",
       "<table border=\"1\" class=\"dataframe\">\n",
       "  <thead>\n",
       "    <tr style=\"text-align: right;\">\n",
       "      <th></th>\n",
       "      <th>Reviews_Duration</th>\n",
       "      <th>Informational</th>\n",
       "      <th>Informational_Duration</th>\n",
       "      <th>ProductRelated</th>\n",
       "      <th>ProductRelated_Duration</th>\n",
       "      <th>BounceRates</th>\n",
       "      <th>ExitRates</th>\n",
       "      <th>PageValues</th>\n",
       "      <th>SpecialDay</th>\n",
       "      <th>Month_Aug</th>\n",
       "      <th>...</th>\n",
       "      <th>Browser_6</th>\n",
       "      <th>TrafficType_11</th>\n",
       "      <th>TrafficType_13</th>\n",
       "      <th>TrafficType_15</th>\n",
       "      <th>TrafficType_16</th>\n",
       "      <th>TrafficType_18</th>\n",
       "      <th>TrafficType_3</th>\n",
       "      <th>TrafficType_5</th>\n",
       "      <th>TrafficType_8</th>\n",
       "      <th>VisitorType_Other</th>\n",
       "    </tr>\n",
       "  </thead>\n",
       "  <tbody>\n",
       "    <tr>\n",
       "      <th>5304</th>\n",
       "      <td>0.000000</td>\n",
       "      <td>0.000000</td>\n",
       "      <td>0.000000</td>\n",
       "      <td>0.008511</td>\n",
       "      <td>0.002063</td>\n",
       "      <td>0.000000</td>\n",
       "      <td>0.166667</td>\n",
       "      <td>0.000000</td>\n",
       "      <td>0.0</td>\n",
       "      <td>0</td>\n",
       "      <td>...</td>\n",
       "      <td>0</td>\n",
       "      <td>0</td>\n",
       "      <td>0</td>\n",
       "      <td>0</td>\n",
       "      <td>0</td>\n",
       "      <td>0</td>\n",
       "      <td>0</td>\n",
       "      <td>1</td>\n",
       "      <td>0</td>\n",
       "      <td>0</td>\n",
       "    </tr>\n",
       "    <tr>\n",
       "      <th>9686</th>\n",
       "      <td>0.000000</td>\n",
       "      <td>0.000000</td>\n",
       "      <td>0.000000</td>\n",
       "      <td>0.123404</td>\n",
       "      <td>0.018722</td>\n",
       "      <td>0.000000</td>\n",
       "      <td>0.011765</td>\n",
       "      <td>0.105043</td>\n",
       "      <td>0.0</td>\n",
       "      <td>0</td>\n",
       "      <td>...</td>\n",
       "      <td>0</td>\n",
       "      <td>0</td>\n",
       "      <td>0</td>\n",
       "      <td>0</td>\n",
       "      <td>0</td>\n",
       "      <td>0</td>\n",
       "      <td>0</td>\n",
       "      <td>0</td>\n",
       "      <td>0</td>\n",
       "      <td>0</td>\n",
       "    </tr>\n",
       "    <tr>\n",
       "      <th>11085</th>\n",
       "      <td>0.057104</td>\n",
       "      <td>0.041667</td>\n",
       "      <td>0.027948</td>\n",
       "      <td>0.021277</td>\n",
       "      <td>0.006976</td>\n",
       "      <td>0.000000</td>\n",
       "      <td>0.078431</td>\n",
       "      <td>0.000000</td>\n",
       "      <td>0.0</td>\n",
       "      <td>0</td>\n",
       "      <td>...</td>\n",
       "      <td>0</td>\n",
       "      <td>0</td>\n",
       "      <td>0</td>\n",
       "      <td>0</td>\n",
       "      <td>0</td>\n",
       "      <td>0</td>\n",
       "      <td>0</td>\n",
       "      <td>0</td>\n",
       "      <td>0</td>\n",
       "      <td>0</td>\n",
       "    </tr>\n",
       "    <tr>\n",
       "      <th>7515</th>\n",
       "      <td>0.069555</td>\n",
       "      <td>0.000000</td>\n",
       "      <td>0.000000</td>\n",
       "      <td>0.019858</td>\n",
       "      <td>0.005341</td>\n",
       "      <td>0.298246</td>\n",
       "      <td>0.421053</td>\n",
       "      <td>0.000000</td>\n",
       "      <td>0.0</td>\n",
       "      <td>0</td>\n",
       "      <td>...</td>\n",
       "      <td>0</td>\n",
       "      <td>0</td>\n",
       "      <td>0</td>\n",
       "      <td>0</td>\n",
       "      <td>0</td>\n",
       "      <td>0</td>\n",
       "      <td>1</td>\n",
       "      <td>0</td>\n",
       "      <td>0</td>\n",
       "      <td>0</td>\n",
       "    </tr>\n",
       "    <tr>\n",
       "      <th>6717</th>\n",
       "      <td>0.000000</td>\n",
       "      <td>0.000000</td>\n",
       "      <td>0.000000</td>\n",
       "      <td>0.009929</td>\n",
       "      <td>0.026912</td>\n",
       "      <td>0.190476</td>\n",
       "      <td>0.192857</td>\n",
       "      <td>0.000000</td>\n",
       "      <td>0.0</td>\n",
       "      <td>0</td>\n",
       "      <td>...</td>\n",
       "      <td>0</td>\n",
       "      <td>0</td>\n",
       "      <td>0</td>\n",
       "      <td>0</td>\n",
       "      <td>0</td>\n",
       "      <td>0</td>\n",
       "      <td>1</td>\n",
       "      <td>0</td>\n",
       "      <td>0</td>\n",
       "      <td>0</td>\n",
       "    </tr>\n",
       "  </tbody>\n",
       "</table>\n",
       "<p>5 rows × 30 columns</p>\n",
       "</div>"
      ],
      "text/plain": [
       "       Reviews_Duration  Informational  Informational_Duration  \\\n",
       "5304           0.000000       0.000000                0.000000   \n",
       "9686           0.000000       0.000000                0.000000   \n",
       "11085          0.057104       0.041667                0.027948   \n",
       "7515           0.069555       0.000000                0.000000   \n",
       "6717           0.000000       0.000000                0.000000   \n",
       "\n",
       "       ProductRelated  ProductRelated_Duration  BounceRates  ExitRates  \\\n",
       "5304         0.008511                 0.002063     0.000000   0.166667   \n",
       "9686         0.123404                 0.018722     0.000000   0.011765   \n",
       "11085        0.021277                 0.006976     0.000000   0.078431   \n",
       "7515         0.019858                 0.005341     0.298246   0.421053   \n",
       "6717         0.009929                 0.026912     0.190476   0.192857   \n",
       "\n",
       "       PageValues  SpecialDay  Month_Aug  ...  Browser_6  TrafficType_11  \\\n",
       "5304     0.000000         0.0          0  ...          0               0   \n",
       "9686     0.105043         0.0          0  ...          0               0   \n",
       "11085    0.000000         0.0          0  ...          0               0   \n",
       "7515     0.000000         0.0          0  ...          0               0   \n",
       "6717     0.000000         0.0          0  ...          0               0   \n",
       "\n",
       "       TrafficType_13  TrafficType_15  TrafficType_16  TrafficType_18  \\\n",
       "5304                0               0               0               0   \n",
       "9686                0               0               0               0   \n",
       "11085               0               0               0               0   \n",
       "7515                0               0               0               0   \n",
       "6717                0               0               0               0   \n",
       "\n",
       "       TrafficType_3  TrafficType_5  TrafficType_8  VisitorType_Other  \n",
       "5304               0              1              0                  0  \n",
       "9686               0              0              0                  0  \n",
       "11085              0              0              0                  0  \n",
       "7515               1              0              0                  0  \n",
       "6717               1              0              0                  0  \n",
       "\n",
       "[5 rows x 30 columns]"
      ]
     },
     "execution_count": 250,
     "metadata": {},
     "output_type": "execute_result"
    }
   ],
   "source": [
    "model = LogisticRegression(max_iter=3000) # como máximo va a correr 300 veces sobre los datos de entrenamiento para tratar de ajustarse a ellos\n",
    "\n",
    "X_new = recursive_feature_selection(X_train, y_train, model, 30)\n",
    "\n",
    "X_train_wrap = X_train.iloc[:,X_new]\n",
    "X_test_wrap = X_test.iloc[:,X_new]\n",
    "X_train_wrap.head()"
   ]
  },
  {
   "cell_type": "markdown",
   "metadata": {},
   "source": [
    "### <font color='157699'> **Con Método Integrado (L1)** </font>\n",
    "---"
   ]
  },
  {
   "cell_type": "code",
   "execution_count": 251,
   "metadata": {},
   "outputs": [
    {
     "name": "stdout",
     "output_type": "stream",
     "text": [
      "[ 4.36266795e-02  0.00000000e+00  0.00000000e+00  0.00000000e+00\n",
      "  2.13381672e-01  0.00000000e+00  0.00000000e+00 -1.30340197e-01\n",
      "  2.83308466e+00 -7.28715947e-03  2.12357822e-03  0.00000000e+00\n",
      " -3.15868766e-02 -0.00000000e+00  4.91616619e-05 -0.00000000e+00\n",
      " -1.71051659e-02 -2.19656931e-02  8.15003036e-02  0.00000000e+00\n",
      "  0.00000000e+00 -0.00000000e+00  1.38619425e-02 -9.27899220e-03\n",
      "  0.00000000e+00  0.00000000e+00 -0.00000000e+00  0.00000000e+00\n",
      " -0.00000000e+00 -0.00000000e+00  0.00000000e+00  0.00000000e+00\n",
      "  0.00000000e+00 -0.00000000e+00 -0.00000000e+00 -0.00000000e+00\n",
      "  0.00000000e+00  0.00000000e+00 -0.00000000e+00 -0.00000000e+00\n",
      "  0.00000000e+00 -0.00000000e+00  0.00000000e+00  0.00000000e+00\n",
      "  0.00000000e+00 -0.00000000e+00 -0.00000000e+00  0.00000000e+00\n",
      "  0.00000000e+00 -0.00000000e+00 -0.00000000e+00 -1.50123035e-02\n",
      "  1.19855682e-03  0.00000000e+00  0.00000000e+00 -3.35619576e-02\n",
      "  0.00000000e+00 -0.00000000e+00  0.00000000e+00  0.00000000e+00\n",
      " -0.00000000e+00 -0.00000000e+00  4.15334450e-03  0.00000000e+00\n",
      " -2.61507843e-02 -0.00000000e+00  0.00000000e+00 -0.00000000e+00\n",
      "  0.00000000e+00  0.00000000e+00 -0.00000000e+00  3.20198959e-02\n",
      " -0.00000000e+00 -0.00000000e+00]\n"
     ]
    },
    {
     "data": {
      "text/html": [
       "<div>\n",
       "<style scoped>\n",
       "    .dataframe tbody tr th:only-of-type {\n",
       "        vertical-align: middle;\n",
       "    }\n",
       "\n",
       "    .dataframe tbody tr th {\n",
       "        vertical-align: top;\n",
       "    }\n",
       "\n",
       "    .dataframe thead th {\n",
       "        text-align: right;\n",
       "    }\n",
       "</style>\n",
       "<table border=\"1\" class=\"dataframe\">\n",
       "  <thead>\n",
       "    <tr style=\"text-align: right;\">\n",
       "      <th></th>\n",
       "      <th>Reviews</th>\n",
       "      <th>ProductRelated</th>\n",
       "      <th>ExitRates</th>\n",
       "      <th>PageValues</th>\n",
       "      <th>SpecialDay</th>\n",
       "      <th>Weekend</th>\n",
       "      <th>Month_Dec</th>\n",
       "      <th>Month_Jul</th>\n",
       "      <th>Month_Mar</th>\n",
       "      <th>Month_May</th>\n",
       "      <th>Month_Nov</th>\n",
       "      <th>OperatingSystems_2</th>\n",
       "      <th>OperatingSystems_3</th>\n",
       "      <th>TrafficType_1</th>\n",
       "      <th>TrafficType_10</th>\n",
       "      <th>TrafficType_13</th>\n",
       "      <th>TrafficType_2</th>\n",
       "      <th>TrafficType_3</th>\n",
       "      <th>VisitorType_New_Visitor</th>\n",
       "    </tr>\n",
       "  </thead>\n",
       "  <tbody>\n",
       "    <tr>\n",
       "      <th>5304</th>\n",
       "      <td>0.000000</td>\n",
       "      <td>0.008511</td>\n",
       "      <td>0.166667</td>\n",
       "      <td>0.000000</td>\n",
       "      <td>0.0</td>\n",
       "      <td>0.0</td>\n",
       "      <td>0</td>\n",
       "      <td>0</td>\n",
       "      <td>0</td>\n",
       "      <td>1</td>\n",
       "      <td>0</td>\n",
       "      <td>0</td>\n",
       "      <td>0</td>\n",
       "      <td>0</td>\n",
       "      <td>0</td>\n",
       "      <td>0</td>\n",
       "      <td>0</td>\n",
       "      <td>0</td>\n",
       "      <td>1</td>\n",
       "    </tr>\n",
       "    <tr>\n",
       "      <th>9686</th>\n",
       "      <td>0.000000</td>\n",
       "      <td>0.123404</td>\n",
       "      <td>0.011765</td>\n",
       "      <td>0.105043</td>\n",
       "      <td>0.0</td>\n",
       "      <td>0.0</td>\n",
       "      <td>0</td>\n",
       "      <td>0</td>\n",
       "      <td>0</td>\n",
       "      <td>0</td>\n",
       "      <td>1</td>\n",
       "      <td>1</td>\n",
       "      <td>0</td>\n",
       "      <td>0</td>\n",
       "      <td>0</td>\n",
       "      <td>0</td>\n",
       "      <td>1</td>\n",
       "      <td>0</td>\n",
       "      <td>1</td>\n",
       "    </tr>\n",
       "    <tr>\n",
       "      <th>11085</th>\n",
       "      <td>0.259259</td>\n",
       "      <td>0.021277</td>\n",
       "      <td>0.078431</td>\n",
       "      <td>0.000000</td>\n",
       "      <td>0.0</td>\n",
       "      <td>0.0</td>\n",
       "      <td>1</td>\n",
       "      <td>0</td>\n",
       "      <td>0</td>\n",
       "      <td>0</td>\n",
       "      <td>0</td>\n",
       "      <td>1</td>\n",
       "      <td>0</td>\n",
       "      <td>0</td>\n",
       "      <td>0</td>\n",
       "      <td>0</td>\n",
       "      <td>1</td>\n",
       "      <td>0</td>\n",
       "      <td>0</td>\n",
       "    </tr>\n",
       "    <tr>\n",
       "      <th>7515</th>\n",
       "      <td>0.259259</td>\n",
       "      <td>0.019858</td>\n",
       "      <td>0.421053</td>\n",
       "      <td>0.000000</td>\n",
       "      <td>0.0</td>\n",
       "      <td>0.0</td>\n",
       "      <td>0</td>\n",
       "      <td>0</td>\n",
       "      <td>0</td>\n",
       "      <td>0</td>\n",
       "      <td>0</td>\n",
       "      <td>0</td>\n",
       "      <td>1</td>\n",
       "      <td>0</td>\n",
       "      <td>0</td>\n",
       "      <td>0</td>\n",
       "      <td>0</td>\n",
       "      <td>1</td>\n",
       "      <td>0</td>\n",
       "    </tr>\n",
       "    <tr>\n",
       "      <th>6717</th>\n",
       "      <td>0.000000</td>\n",
       "      <td>0.009929</td>\n",
       "      <td>0.192857</td>\n",
       "      <td>0.000000</td>\n",
       "      <td>0.0</td>\n",
       "      <td>0.0</td>\n",
       "      <td>0</td>\n",
       "      <td>0</td>\n",
       "      <td>0</td>\n",
       "      <td>0</td>\n",
       "      <td>1</td>\n",
       "      <td>0</td>\n",
       "      <td>0</td>\n",
       "      <td>0</td>\n",
       "      <td>0</td>\n",
       "      <td>0</td>\n",
       "      <td>0</td>\n",
       "      <td>1</td>\n",
       "      <td>0</td>\n",
       "    </tr>\n",
       "  </tbody>\n",
       "</table>\n",
       "</div>"
      ],
      "text/plain": [
       "        Reviews  ProductRelated  ExitRates  PageValues  SpecialDay  Weekend  \\\n",
       "5304   0.000000        0.008511   0.166667    0.000000         0.0      0.0   \n",
       "9686   0.000000        0.123404   0.011765    0.105043         0.0      0.0   \n",
       "11085  0.259259        0.021277   0.078431    0.000000         0.0      0.0   \n",
       "7515   0.259259        0.019858   0.421053    0.000000         0.0      0.0   \n",
       "6717   0.000000        0.009929   0.192857    0.000000         0.0      0.0   \n",
       "\n",
       "       Month_Dec  Month_Jul  Month_Mar  Month_May  Month_Nov  \\\n",
       "5304           0          0          0          1          0   \n",
       "9686           0          0          0          0          1   \n",
       "11085          1          0          0          0          0   \n",
       "7515           0          0          0          0          0   \n",
       "6717           0          0          0          0          1   \n",
       "\n",
       "       OperatingSystems_2  OperatingSystems_3  TrafficType_1  TrafficType_10  \\\n",
       "5304                    0                   0              0               0   \n",
       "9686                    1                   0              0               0   \n",
       "11085                   1                   0              0               0   \n",
       "7515                    0                   1              0               0   \n",
       "6717                    0                   0              0               0   \n",
       "\n",
       "       TrafficType_13  TrafficType_2  TrafficType_3  VisitorType_New_Visitor  \n",
       "5304                0              0              0                        1  \n",
       "9686                0              1              0                        1  \n",
       "11085               0              1              0                        0  \n",
       "7515                0              0              1                        0  \n",
       "6717                0              0              1                        0  "
      ]
     },
     "execution_count": 251,
     "metadata": {},
     "output_type": "execute_result"
    }
   ],
   "source": [
    "from sklearn.feature_selection import SelectFromModel\n",
    "from sklearn.linear_model import Lasso\n",
    "import numpy as np\n",
    "\n",
    "sel_ = SelectFromModel(Lasso(alpha=0.001), max_features=30)\n",
    "sel_.fit(X_train, y_train)\n",
    "\n",
    "print(sel_.estimator_.coef_)\n",
    "\n",
    "X_new_1 = sel_.get_support()\n",
    "\n",
    "X_train_intg = X_train.iloc[:,X_new_1]\n",
    "X_test_intg = X_test.iloc[:,X_new_1]\n",
    "X_train_intg.head()"
   ]
  },
  {
   "cell_type": "markdown",
   "metadata": {},
   "source": [
    "---"
   ]
  },
  {
   "cell_type": "code",
   "execution_count": 252,
   "metadata": {},
   "outputs": [],
   "source": [
    "# Eliminar columnas especificadas\n",
    "df_final.drop(['Reviews_Duration', 'Informational_Duration', 'ProductRelated_Duration', 'BounceRates'], axis=1, inplace=True)"
   ]
  },
  {
   "cell_type": "markdown",
   "metadata": {},
   "source": [
    "---"
   ]
  },
  {
   "cell_type": "markdown",
   "metadata": {},
   "source": [
    "# <font color='056938'> **1. Regresión Logística** </font>\n",
    "---"
   ]
  },
  {
   "cell_type": "markdown",
   "metadata": {},
   "source": [
    "### <font color='157699'> **1.1. Modelo con Submuestreo** </font>\n",
    "---"
   ]
  },
  {
   "cell_type": "code",
   "execution_count": 253,
   "metadata": {},
   "outputs": [],
   "source": [
    "from sklearn.linear_model import LogisticRegression\n",
    "from sklearn.metrics import confusion_matrix, classification_report\n",
    "from imblearn.under_sampling import RandomUnderSampler"
   ]
  },
  {
   "cell_type": "code",
   "execution_count": 254,
   "metadata": {},
   "outputs": [],
   "source": [
    "# Dividir los datos en características (X) y variable objetivo (y)\n",
    "X_log_sub = df_final.drop('Purchase', axis=1)\n",
    "y_log_sub = df_final['Purchase']"
   ]
  },
  {
   "cell_type": "code",
   "execution_count": 255,
   "metadata": {},
   "outputs": [
    {
     "name": "stdout",
     "output_type": "stream",
     "text": [
      "Tamaño del conjunto de entrenamiento:  (9764, 70)\n",
      "Tamaño del conjunto de validación:  (2441, 70)\n"
     ]
    }
   ],
   "source": [
    "from sklearn.model_selection import train_test_split\n",
    "\n",
    "X_train_log_sub, X_test_log_sub, y_train_log_sub, y_test_log_sub = train_test_split(X_log_sub, y_log_sub, test_size=0.2, random_state = 123)\n",
    "\n",
    "print('Tamaño del conjunto de entrenamiento: ', X_train_log_sub.shape)\n",
    "print('Tamaño del conjunto de validación: ', X_test_log_sub.shape)"
   ]
  },
  {
   "cell_type": "code",
   "execution_count": 256,
   "metadata": {},
   "outputs": [
    {
     "name": "stdout",
     "output_type": "stream",
     "text": [
      "Original dataset shape: Counter({0.0: 10297, 1.0: 1908})\n",
      "Resampled dataset shape: Counter({0.0: 1496, 1.0: 1496})\n"
     ]
    }
   ],
   "source": [
    "from imblearn.under_sampling import RandomUnderSampler\n",
    "from collections import Counter\n",
    "\n",
    "rus = RandomUnderSampler(random_state=123)\n",
    "X_rus, y_rus = rus.fit_resample(X_train_log_sub, y_train_log_sub)\n",
    "\n",
    "print(\"Original dataset shape:\", Counter(y_log_sub))\n",
    "# Nuevo dataset shape después del submuestreo\n",
    "print(\"Resampled dataset shape:\", Counter(y_rus))"
   ]
  },
  {
   "cell_type": "code",
   "execution_count": 257,
   "metadata": {},
   "outputs": [],
   "source": [
    "from sklearn.metrics import f1_score, recall_score\n",
    "\n",
    "model_log_sub = LogisticRegression(max_iter=10000, random_state=123)\n",
    "\n",
    "model_log_sub.fit(X_rus, y_rus)\n",
    "\n",
    "y_train_pred_log_sub = model_log_sub.predict(X_train_log_sub)"
   ]
  },
  {
   "cell_type": "code",
   "execution_count": 260,
   "metadata": {},
   "outputs": [],
   "source": [
    "y_pred_log_sub = model_log_sub.predict(X_test_log_sub)"
   ]
  },
  {
   "cell_type": "code",
   "execution_count": 262,
   "metadata": {},
   "outputs": [
    {
     "data": {
      "image/png": "[encoded data removed]",
      "text/plain": [
       "<Figure size 640x480 with 2 Axes>"
      ]
     },
     "metadata": {},
     "output_type": "display_data"
    }
   ],
   "source": [
    "# Matriz de confusión para modelo con submuestreo\n",
    "\n",
    "from sklearn.metrics import confusion_matrix, ConfusionMatrixDisplay\n",
    "\n",
    "mc_log_sub = confusion_matrix(y_test_log_sub, y_pred_log_sub)\n",
    "\n",
    "mc_log_sub_display = ConfusionMatrixDisplay(confusion_matrix = mc_log_sub, display_labels = ['No compra', 'compra'])\n",
    "mc_log_sub_display.plot()\n",
    "plt.show()"
   ]
  },
  {
   "cell_type": "code",
   "execution_count": 277,
   "metadata": {},
   "outputs": [
    {
     "name": "stdout",
     "output_type": "stream",
     "text": [
      "Train - Accuracy : 0.7801106104055715\n",
      "Train - classification report:\n",
      "               precision    recall  f1-score   support\n",
      "\n",
      "         0.0     0.9529    0.7788    0.8571      8268\n",
      "         1.0     0.3918    0.7874    0.5232      1496\n",
      "\n",
      "    accuracy                         0.7801      9764\n",
      "   macro avg     0.6723    0.7831    0.6902      9764\n",
      "weighted avg     0.8670    0.7801    0.8059      9764\n",
      "\n",
      "Test - Accuracy : 0.7832855387136419\n",
      "Test - classification report\n",
      ":               precision    recall  f1-score   support\n",
      "\n",
      "         0.0     0.9475    0.7827    0.8572      2029\n",
      "         1.0     0.4235    0.7864    0.5506       412\n",
      "\n",
      "    accuracy                         0.7833      2441\n",
      "   macro avg     0.6855    0.7845    0.7039      2441\n",
      "weighted avg     0.8591    0.7833    0.8055      2441\n",
      "\n"
     ]
    }
   ],
   "source": [
    "# Métricas de desempeño\n",
    "\n",
    "print (\"Train - Accuracy :\", metrics.accuracy_score(y_train_log_sub, model_log_sub.predict(X_train_log_sub)))\n",
    "print (\"Train - classification report:\\n\", metrics.classification_report(y_train_log_sub, model_log_sub.predict(X_train_log_sub), digits=4))\n",
    "print (\"Test - Accuracy :\", metrics.accuracy_score(y_test_log_sub, model_log_sub.predict(X_test_log_sub)))\n",
    "print (\"Test - classification report\\n:\", metrics.classification_report(y_test_log_sub, model_log_sub.predict(X_test_log_sub), digits=4))"
   ]
  },
  {
   "cell_type": "code",
   "execution_count": 265,
   "metadata": {},
   "outputs": [
    {
     "name": "stdout",
     "output_type": "stream",
     "text": [
      "AUC del modelo base: 0.8626\n"
     ]
    }
   ],
   "source": [
    "# AUC\n",
    "from sklearn.metrics import roc_auc_score\n",
    "\n",
    "y_pred_proba_log_sub = model_log_sub.predict_proba(X_test_log_sub)[:, 1]\n",
    "auc_score = roc_auc_score(y_test_log_sub, y_pred_proba_log_sub)\n",
    "print(\"AUC del modelo base:\", round(auc_score, 4))"
   ]
  },
  {
   "cell_type": "markdown",
   "metadata": {},
   "source": [
    "### <font color='157699'> **1.2. Modelo con Sobremuestreo** </font>\n",
    "---"
   ]
  },
  {
   "cell_type": "code",
   "execution_count": 215,
   "metadata": {},
   "outputs": [],
   "source": [
    "X_log_over = df_final.drop('Purchase', axis=1)\n",
    "y_log_over = df_final['Purchase']"
   ]
  },
  {
   "cell_type": "code",
   "execution_count": 266,
   "metadata": {},
   "outputs": [
    {
     "name": "stdout",
     "output_type": "stream",
     "text": [
      "Tamaño del conjunto de entrenamiento:  (9864, 70)\n",
      "Tamaño del conjunto de validación:  (2466, 70)\n"
     ]
    }
   ],
   "source": [
    "from sklearn.model_selection import train_test_split\n",
    "X_train_log_over, X_test_log_over, y_train_log_over, y_test_log_over = train_test_split(X_log_over, y_log_over, test_size = 0.2, random_state = 123)\n",
    "\n",
    "print('Tamaño del conjunto de entrenamiento: ', X_train_log_over.shape)\n",
    "print('Tamaño del conjunto de validación: ', X_test_log_over.shape)"
   ]
  },
  {
   "cell_type": "code",
   "execution_count": 267,
   "metadata": {},
   "outputs": [
    {
     "name": "stdout",
     "output_type": "stream",
     "text": [
      "Original dataset shape: Counter({0.0: 10422, 1.0: 1908})\n",
      "Resampled dataset shape: Counter({1.0: 8353, 0.0: 8353})\n"
     ]
    }
   ],
   "source": [
    "from imblearn.over_sampling import RandomOverSampler\n",
    "from collections import Counter\n",
    "\n",
    "ros = RandomOverSampler(random_state=123)\n",
    "X_ros, y_ros = ros.fit_resample(X_train_log_over, y_train_log_over)\n",
    "\n",
    "print(\"Original dataset shape:\", Counter(y_log_over))\n",
    "print(\"Resampled dataset shape:\", Counter(y_ros))"
   ]
  },
  {
   "cell_type": "code",
   "execution_count": 268,
   "metadata": {},
   "outputs": [],
   "source": [
    "from sklearn.metrics import f1_score, recall_score\n",
    "\n",
    "model_log_over = LogisticRegression(max_iter=10000, random_state=123)\n",
    "\n",
    "model_log_over.fit(X_ros, y_ros)\n",
    "\n",
    "y_train_pred_log_over = model_log_over.predict(X_train_log_over)"
   ]
  },
  {
   "cell_type": "code",
   "execution_count": 269,
   "metadata": {},
   "outputs": [],
   "source": [
    "y_pred_log_over = model_log_over.predict(X_test_log_over)"
   ]
  },
  {
   "cell_type": "code",
   "execution_count": 270,
   "metadata": {},
   "outputs": [
    {
     "data": {
      "image/png": "[encoded data removed]",
      "text/plain": [
       "<Figure size 640x480 with 2 Axes>"
      ]
     },
     "metadata": {},
     "output_type": "display_data"
    }
   ],
   "source": [
    "# Matriz de confusión\n",
    "\n",
    "from sklearn.metrics import confusion_matrix, ConfusionMatrixDisplay\n",
    "\n",
    "mc_log_over = confusion_matrix(y_test_log_over, y_pred_log_over)\n",
    "\n",
    "mc_log_over_display = ConfusionMatrixDisplay(confusion_matrix = mc_log_over, display_labels=['No compra', 'Compra'])\n",
    "mc_log_over_display.plot()\n",
    "plt.show()"
   ]
  },
  {
   "cell_type": "code",
   "execution_count": 276,
   "metadata": {},
   "outputs": [
    {
     "name": "stdout",
     "output_type": "stream",
     "text": [
      "Train - Accuracy : 0.8280616382806164\n",
      "Train - classification report:\n",
      "               precision    recall  f1-score   support\n",
      "\n",
      "         0.0     0.9545    0.8368    0.8918      8353\n",
      "         1.0     0.4636    0.7796    0.5814      1511\n",
      "\n",
      "    accuracy                         0.8281      9864\n",
      "   macro avg     0.7091    0.8082    0.7366      9864\n",
      "weighted avg     0.8793    0.8281    0.8443      9864\n",
      "\n",
      "Test - Accuracy : 0.8130575831305759\n",
      "Test - classification report\n",
      ":               precision    recall  f1-score   support\n",
      "\n",
      "         0.0     0.9452    0.8250    0.8810      2069\n",
      "         1.0     0.4515    0.7506    0.5639       397\n",
      "\n",
      "    accuracy                         0.8131      2466\n",
      "   macro avg     0.6983    0.7878    0.7224      2466\n",
      "weighted avg     0.8657    0.8131    0.8300      2466\n",
      "\n"
     ]
    }
   ],
   "source": [
    "# Métricas de desempeño\n",
    "\n",
    "print (\"Train - Accuracy :\", metrics.accuracy_score(y_train_log_over, model_log_over.predict(X_train_log_over)))\n",
    "print (\"Train - classification report:\\n\", metrics.classification_report(y_train_log_over, model_log_over.predict(X_train_log_over), digits=4))\n",
    "print (\"Test - Accuracy :\", metrics.accuracy_score(y_test_log_over, model_log_over.predict(X_test_log_over)))\n",
    "print (\"Test - classification report\\n:\", metrics.classification_report(y_test_log_over, model_log_over.predict(X_test_log_over), digits=4))"
   ]
  },
  {
   "cell_type": "code",
   "execution_count": 278,
   "metadata": {},
   "outputs": [
    {
     "name": "stdout",
     "output_type": "stream",
     "text": [
      "AUC del modelo base: 0.8861\n"
     ]
    }
   ],
   "source": [
    "# AUC\n",
    "from sklearn.metrics import roc_auc_score\n",
    "\n",
    "y_pred_proba_log_over = model_log_over.predict_proba(X_test_log_over)[:, 1]\n",
    "auc_score = roc_auc_score(y_test_log_over, y_pred_proba_log_over)\n",
    "print(\"AUC del modelo base:\", round(auc_score, 4))"
   ]
  },
  {
   "cell_type": "markdown",
   "metadata": {},
   "source": [
    "### <font color='157699'> **1.3. Modelo con Wrapper** </font>\n",
    "---"
   ]
  },
  {
   "cell_type": "code",
   "execution_count": 282,
   "metadata": {},
   "outputs": [
    {
     "name": "stdout",
     "output_type": "stream",
     "text": [
      "Exactitud en el entrenamiento: 0.8176\n"
     ]
    }
   ],
   "source": [
    "model_log_wrap = LogisticRegression(class_weight='balanced', random_state=123)\n",
    "\n",
    "model_log_wrap.fit(X_train_wrap, y_train)\n",
    "\n",
    "y_train_pred_log_wrap = model_log_wrap.predict(X_train_wrap)\n",
    "\n",
    "print('Exactitud en el entrenamiento: %.4f'  %accuracy_score(y_train, y_train_pred_log_wrap))"
   ]
  },
  {
   "cell_type": "code",
   "execution_count": 280,
   "metadata": {},
   "outputs": [
    {
     "name": "stdout",
     "output_type": "stream",
     "text": [
      "Exactitud en la validacion: 0.8230\n"
     ]
    }
   ],
   "source": [
    "y_pred_log_wrap = model_log_wrap.predict(X_test_wrap)\n",
    "\n",
    "# Exactitud en el conjunto de validación\n",
    "print('Exactitud en la validacion: %.4f'  %accuracy_score(y_test, y_pred_log_wrap))"
   ]
  },
  {
   "cell_type": "code",
   "execution_count": 281,
   "metadata": {},
   "outputs": [
    {
     "data": {
      "image/png": "[encoded data removed]",
      "text/plain": [
       "<Figure size 640x480 with 2 Axes>"
      ]
     },
     "metadata": {},
     "output_type": "display_data"
    }
   ],
   "source": [
    "mc_log_wrap = confusion_matrix(y_test, y_pred_log_wrap)\n",
    "mc_log_wrap_display = ConfusionMatrixDisplay(confusion_matrix = mc_log_wrap, display_labels=['No Compra', 'Compra'])\n",
    "mc_log_wrap_display.plot()\n",
    "plt.show()"
   ]
  },
  {
   "cell_type": "code",
   "execution_count": 283,
   "metadata": {},
   "outputs": [
    {
     "name": "stdout",
     "output_type": "stream",
     "text": [
      "Train - Accuracy : 0.8175952478492421\n",
      "Train - classification report:\n",
      "               precision    recall  f1-score   support\n",
      "\n",
      "         0.0     0.9511    0.8257    0.8840      8218\n",
      "         1.0     0.4553    0.7743    0.5734      1546\n",
      "\n",
      "    accuracy                         0.8176      9764\n",
      "   macro avg     0.7032    0.8000    0.7287      9764\n",
      "weighted avg     0.8726    0.8176    0.8348      9764\n",
      "\n",
      "Test - Accuracy : 0.8230233510856206\n",
      "Test - classification report\n",
      ":               precision    recall  f1-score   support\n",
      "\n",
      "         0.0     0.9498    0.8365    0.8895      2079\n",
      "         1.0     0.4426    0.7459    0.5556       362\n",
      "\n",
      "    accuracy                         0.8230      2441\n",
      "   macro avg     0.6962    0.7912    0.7225      2441\n",
      "weighted avg     0.8745    0.8230    0.8400      2441\n",
      "\n"
     ]
    }
   ],
   "source": [
    "# Métricas de desempeño\n",
    "\n",
    "print (\"Train - Accuracy :\", metrics.accuracy_score(y_train, model_log_wrap.predict(X_train_wrap)))\n",
    "print (\"Train - classification report:\\n\", metrics.classification_report(y_train, model_log_wrap.predict(X_train_wrap), digits=4))\n",
    "print (\"Test - Accuracy :\", metrics.accuracy_score(y_test, model_log_wrap.predict(X_test_wrap)))\n",
    "print (\"Test - classification report\\n:\", metrics.classification_report(y_test, model_log_wrap.predict(X_test_wrap), digits=4))"
   ]
  },
  {
   "cell_type": "code",
   "execution_count": 284,
   "metadata": {},
   "outputs": [
    {
     "name": "stdout",
     "output_type": "stream",
     "text": [
      "AUC del modelo base: 0.8901\n"
     ]
    }
   ],
   "source": [
    "# AUC\n",
    "from sklearn.metrics import roc_auc_score\n",
    "\n",
    "y_pred_proba_log_wrap = model_log_wrap.predict_proba(X_test_wrap)[:, 1]\n",
    "auc_score = roc_auc_score(y_test, y_pred_proba_log_wrap)\n",
    "print(\"AUC del modelo base:\", round(auc_score, 4))\n"
   ]
  },
  {
   "cell_type": "markdown",
   "metadata": {},
   "source": [
    "### <font color='157699'> **1.4. Modelo con Integrado** </font>\n",
    "---"
   ]
  },
  {
   "cell_type": "code",
   "execution_count": 285,
   "metadata": {},
   "outputs": [
    {
     "name": "stdout",
     "output_type": "stream",
     "text": [
      "Exactitud en el entrenamiento: 0.8154\n"
     ]
    }
   ],
   "source": [
    "from sklearn.metrics import accuracy_score\n",
    "\n",
    "model_log_intg = LogisticRegression(random_state=123, class_weight='balanced')\n",
    "\n",
    "model_log_intg.fit(X_train_intg, y_train)\n",
    "\n",
    "y_train_log_intg = model_log_intg.predict(X_train_intg)\n",
    "\n",
    "print('Exactitud en el entrenamiento: %.4f'  %accuracy_score(y_train, y_train_log_intg))"
   ]
  },
  {
   "cell_type": "code",
   "execution_count": 286,
   "metadata": {},
   "outputs": [
    {
     "name": "stdout",
     "output_type": "stream",
     "text": [
      "Exactitud en la validacion: 0.828\n"
     ]
    }
   ],
   "source": [
    "y_pred_log_intg = model_log_intg.predict(X_test_intg)\n",
    "\n",
    "# Exactitud en el conjunto de validación\n",
    "print('Exactitud en la validacion: %.3f'  %accuracy_score(y_test, y_pred_log_intg))"
   ]
  },
  {
   "cell_type": "code",
   "execution_count": 287,
   "metadata": {},
   "outputs": [
    {
     "data": {
      "image/png": "[encoded data removed]",
      "text/plain": [
       "<Figure size 640x480 with 2 Axes>"
      ]
     },
     "metadata": {},
     "output_type": "display_data"
    }
   ],
   "source": [
    "mc_log_intg = confusion_matrix(y_test, y_pred_log_intg)\n",
    "mc_log_intg_display = ConfusionMatrixDisplay(confusion_matrix = mc_log_intg, display_labels=['No Compra', 'Compra'])\n",
    "mc_log_intg_display.plot()\n",
    "plt.show()"
   ]
  },
  {
   "cell_type": "code",
   "execution_count": 288,
   "metadata": {},
   "outputs": [
    {
     "name": "stdout",
     "output_type": "stream",
     "text": [
      "Train - Accuracy : 0.8154444899631299\n",
      "Train - classification report:\n",
      "               precision    recall  f1-score   support\n",
      "\n",
      "         0.0     0.9494    0.8247    0.8827      8218\n",
      "         1.0     0.4513    0.7665    0.5681      1546\n",
      "\n",
      "    accuracy                         0.8154      9764\n",
      "   macro avg     0.7003    0.7956    0.7254      9764\n",
      "weighted avg     0.8705    0.8154    0.8328      9764\n",
      "\n",
      "Test - Accuracy : 0.8279393691110201\n",
      "Test - classification report\n",
      ":               precision    recall  f1-score   support\n",
      "\n",
      "         0.0     0.9540    0.8384    0.8925      2079\n",
      "         1.0     0.4528    0.7680    0.5697       362\n",
      "\n",
      "    accuracy                         0.8279      2441\n",
      "   macro avg     0.7034    0.8032    0.7311      2441\n",
      "weighted avg     0.8797    0.8279    0.8446      2441\n",
      "\n"
     ]
    }
   ],
   "source": [
    "# Métricas de desempeño\n",
    "\n",
    "print (\"Train - Accuracy :\", metrics.accuracy_score(y_train, model_log_intg.predict(X_train_intg)))\n",
    "print (\"Train - classification report:\\n\", metrics.classification_report(y_train, model_log_intg.predict(X_train_intg), digits=4))\n",
    "print (\"Test - Accuracy :\", metrics.accuracy_score(y_test, model_log_intg.predict(X_test_intg)))\n",
    "print (\"Test - classification report\\n:\", metrics.classification_report(y_test, model_log_intg.predict(X_test_intg), digits=4))"
   ]
  },
  {
   "cell_type": "code",
   "execution_count": 93,
   "metadata": {},
   "outputs": [
    {
     "name": "stdout",
     "output_type": "stream",
     "text": [
      "Reporte de clasificación para el conjunto de entrenamiento:\n",
      "              precision    recall  f1-score   support\n",
      "\n",
      "         0.0       0.95      0.82      0.88      8367\n",
      "         1.0       0.44      0.78      0.56      1497\n",
      "\n",
      "    accuracy                           0.82      9864\n",
      "   macro avg       0.70      0.80      0.72      9864\n",
      "weighted avg       0.88      0.82      0.83      9864\n",
      "\n",
      "Precisión (accuracy) en el conjunto de entrenamiento: 0.8158961881589619\n",
      "\n",
      "Reporte de clasificación para el conjunto de prueba:\n",
      "              precision    recall  f1-score   support\n",
      "\n",
      "         0.0       0.94      0.83      0.88      2055\n",
      "         1.0       0.47      0.75      0.58       411\n",
      "\n",
      "    accuracy                           0.82      2466\n",
      "   macro avg       0.71      0.79      0.73      2466\n",
      "weighted avg       0.86      0.82      0.83      2466\n",
      "\n",
      "Precisión (accuracy) en el conjunto de prueba: 0.818734793187348\n"
     ]
    }
   ],
   "source": [
    "from sklearn.metrics import classification_report, accuracy_score\n",
    "\n",
    "y_train_pred = modelo_4.predict(X_train_intg)\n",
    "accuracy_train = accuracy_score(y_train, y_train_pred)\n",
    "reporte_train = classification_report(y_train, y_train_pred)\n",
    "\n",
    "print(\"Reporte de clasificación para el conjunto de entrenamiento:\")\n",
    "print(reporte_train)\n",
    "print(\"Precisión (accuracy) en el conjunto de entrenamiento:\", accuracy_train)\n",
    "\n",
    "y_test_pred = modelo_4.predict(X_test_intg)\n",
    "accuracy_test = accuracy_score(y_test, y_test_pred)\n",
    "reporte_test = classification_report(y_test, y_test_pred)\n",
    "\n",
    "print(\"\\nReporte de clasificación para el conjunto de prueba:\")\n",
    "print(reporte_test)\n",
    "print(\"Precisión (accuracy) en el conjunto de prueba:\", accuracy_test)"
   ]
  },
  {
   "cell_type": "code",
   "execution_count": 289,
   "metadata": {},
   "outputs": [
    {
     "name": "stdout",
     "output_type": "stream",
     "text": [
      "AUC del modelo base: 0.8914\n"
     ]
    }
   ],
   "source": [
    "# AUC\n",
    "from sklearn.metrics import roc_auc_score\n",
    "\n",
    "y_pred_proba_log_intg = model_log_intg.predict_proba(X_test_intg)[:, 1]\n",
    "auc_score = roc_auc_score(y_test, y_pred_proba_log_intg)\n",
    "print(\"AUC del modelo base:\", round(auc_score, 4))\n"
   ]
  },
  {
   "cell_type": "markdown",
   "metadata": {},
   "source": [
    "### <font color='157699'> **1.5. Modelo con Cross Validation** </font>\n",
    "---"
   ]
  },
  {
   "cell_type": "code",
   "execution_count": 293,
   "metadata": {},
   "outputs": [],
   "source": [
    "from sklearn.model_selection import  cross_validate\n",
    "from sklearn.linear_model import LogisticRegression\n",
    "\n",
    "def cross_validation(model, _X, _y, _cv=5, scoring='f1'): # 5 es el número de paqueticos\n",
    "      _scoring = ['accuracy', 'precision', 'recall', 'f1']\n",
    "      results = cross_validate(estimator=model,\n",
    "                               X=_X,\n",
    "                               y=_y,\n",
    "                               cv=_cv,\n",
    "                               scoring=_scoring,\n",
    "                               return_train_score=True) # importante\n",
    "\n",
    "      return {\"Training Accuracy scores\": results['train_accuracy'],\n",
    "              \"Mean Training Accuracy\": results['train_accuracy'].mean()*100,\n",
    "              \"Training Precision scores\": results['train_precision'],\n",
    "              \"Mean Training Precision\": results['train_precision'].mean(),\n",
    "              \"Training Recall scores\": results['train_recall'],\n",
    "              \"Mean Training Recall\": results['train_recall'].mean(),\n",
    "              \"Training F1 scores\": results['train_f1'],\n",
    "              \"Mean Training F1 Score\": results['train_f1'].mean(),\n",
    "              \"Validation Accuracy scores\": results['test_accuracy'],\n",
    "              \"Mean Validation Accuracy\": results['test_accuracy'].mean()*100,\n",
    "              \"Validation Precision scores\": results['test_precision'],\n",
    "              \"Mean Validation Precision\": results['test_precision'].mean(),\n",
    "              \"Validation Recall scores\": results['test_recall'],\n",
    "              \"Mean Validation Recall\": results['test_recall'].mean(),\n",
    "              \"Validation F1 scores\": results['test_f1'],\n",
    "              \"Mean Validation F1 Score\": results['test_f1'].mean()\n",
    "              }"
   ]
  },
  {
   "cell_type": "code",
   "execution_count": 294,
   "metadata": {},
   "outputs": [],
   "source": [
    "model_log_CV = LogisticRegression(class_weight=\"balanced\", random_state=123, max_iter=300)\n",
    "model_log_CV_2_result = cross_validation(model_log_CV, X, y, 5)"
   ]
  },
  {
   "cell_type": "code",
   "execution_count": 295,
   "metadata": {},
   "outputs": [
    {
     "data": {
      "text/plain": [
       "{'Training Accuracy scores': array([0.78973781, 0.81841458, 0.82302335, 0.82015567, 0.82968046]),\n",
       " 'Mean Training Accuracy': 81.6202376075379,\n",
       " 'Training Precision scores': array([0.4101162 , 0.45290965, 0.46156773, 0.45637329, 0.47302087]),\n",
       " 'Mean Training Precision': 0.4507975493426013,\n",
       " 'Training Recall scores': array([0.78585462, 0.77472168, 0.7948886 , 0.78833552, 0.7870249 ]),\n",
       " 'Mean Training Recall': 0.7861650620847462,\n",
       " 'Training F1 scores': array([0.5389625 , 0.57163566, 0.58401541, 0.57808746, 0.59089791]),\n",
       " 'Mean Training F1 Score': 0.5727197863498629,\n",
       " 'Validation Accuracy scores': array([0.87668988, 0.84801311, 0.70176157, 0.68578451, 0.65137239]),\n",
       " 'Mean Validation Accuracy': 75.27242933224089,\n",
       " 'Validation Precision scores': array([0.59389671, 0.50976562, 0.32164948, 0.31219512, 0.29447853]),\n",
       " 'Mean Validation Precision': 0.4063970945419375,\n",
       " 'Validation Recall scores': array([0.66404199, 0.68503937, 0.81675393, 0.83769634, 0.87958115]),\n",
       " 'Mean Validation Recall': 0.7766225556883923,\n",
       " 'Validation F1 scores': array([0.62701363, 0.58454647, 0.46153846, 0.45486851, 0.44123441]),\n",
       " 'Mean Validation F1 Score': 0.5138402970364061}"
      ]
     },
     "execution_count": 295,
     "metadata": {},
     "output_type": "execute_result"
    }
   ],
   "source": [
    "model_log_CV_2_result"
   ]
  },
  {
   "cell_type": "code",
   "execution_count": 297,
   "metadata": {},
   "outputs": [
    {
     "data": {
      "image/png": "[encoded data removed]",
      "text/plain": [
       "<Figure size 640x480 with 2 Axes>"
      ]
     },
     "metadata": {},
     "output_type": "display_data"
    }
   ],
   "source": [
    "mc_log_CV = confusion_matrix(y_test, y_pred)\n",
    "\n",
    "mc_cv_display = ConfusionMatrixDisplay(confusion_matrix = mc_log_CV, display_labels=['No compra', 'Compra'])\n",
    "mc_cv_display.plot()\n",
    "plt.show()"
   ]
  },
  {
   "cell_type": "code",
   "execution_count": 298,
   "metadata": {},
   "outputs": [
    {
     "name": "stdout",
     "output_type": "stream",
     "text": [
      "Mean Training F1 Score:  0.5727197863498629 \n",
      "Mean Validation F1 Score:  0.5138402970364061\n"
     ]
    }
   ],
   "source": [
    "print(\"Mean Training F1 Score: \", model_log_CV_2_result['Mean Training F1 Score'],\n",
    "      \"\\nMean Validation F1 Score: \", model_log_CV_2_result['Mean Validation F1 Score'])"
   ]
  },
  {
   "cell_type": "markdown",
   "metadata": {},
   "source": [
    "# <font color='056938'> **2. Métodos de Ensamble** </font>\n",
    "---"
   ]
  },
  {
   "cell_type": "markdown",
   "metadata": {},
   "source": [
    "## <font color='157699'> **2.1. Random Forest** </font>\n",
    "---"
   ]
  },
  {
   "cell_type": "markdown",
   "metadata": {},
   "source": [
    "### <font color='157699'> **2.1.1. Random Forest con Wrapper** </font>"
   ]
  },
  {
   "cell_type": "code",
   "execution_count": 318,
   "metadata": {},
   "outputs": [],
   "source": [
    "X_train_ranfor_wrap = X_train_wrap\n",
    "X_test_ranfor_wrap = X_test_wrap"
   ]
  },
  {
   "cell_type": "code",
   "execution_count": 319,
   "metadata": {},
   "outputs": [
    {
     "data": {
      "text/html": [
       "<style>#sk-container-id-7 {color: black;background-color: white;}#sk-container-id-7 pre{padding: 0;}#sk-container-id-7 div.sk-toggleable {background-color: white;}#sk-container-id-7 label.sk-toggleable__label {cursor: pointer;display: block;width: 100%;margin-bottom: 0;padding: 0.3em;box-sizing: border-box;text-align: center;}#sk-container-id-7 label.sk-toggleable__label-arrow:before {content: \"▸\";float: left;margin-right: 0.25em;color: #696969;}#sk-container-id-7 label.sk-toggleable__label-arrow:hover:before {color: black;}#sk-container-id-7 div.sk-estimator:hover label.sk-toggleable__label-arrow:before {color: black;}#sk-container-id-7 div.sk-toggleable__content {max-height: 0;max-width: 0;overflow: hidden;text-align: left;background-color: #f0f8ff;}#sk-container-id-7 div.sk-toggleable__content pre {margin: 0.2em;color: black;border-radius: 0.25em;background-color: #f0f8ff;}#sk-container-id-7 input.sk-toggleable__control:checked~div.sk-toggleable__content {max-height: 200px;max-width: 100%;overflow: auto;}#sk-container-id-7 input.sk-toggleable__control:checked~label.sk-toggleable__label-arrow:before {content: \"▾\";}#sk-container-id-7 div.sk-estimator input.sk-toggleable__control:checked~label.sk-toggleable__label {background-color: #d4ebff;}#sk-container-id-7 div.sk-label input.sk-toggleable__control:checked~label.sk-toggleable__label {background-color: #d4ebff;}#sk-container-id-7 input.sk-hidden--visually {border: 0;clip: rect(1px 1px 1px 1px);clip: rect(1px, 1px, 1px, 1px);height: 1px;margin: -1px;overflow: hidden;padding: 0;position: absolute;width: 1px;}#sk-container-id-7 div.sk-estimator {font-family: monospace;background-color: #f0f8ff;border: 1px dotted black;border-radius: 0.25em;box-sizing: border-box;margin-bottom: 0.5em;}#sk-container-id-7 div.sk-estimator:hover {background-color: #d4ebff;}#sk-container-id-7 div.sk-parallel-item::after {content: \"\";width: 100%;border-bottom: 1px solid gray;flex-grow: 1;}#sk-container-id-7 div.sk-label:hover label.sk-toggleable__label {background-color: #d4ebff;}#sk-container-id-7 div.sk-serial::before {content: \"\";position: absolute;border-left: 1px solid gray;box-sizing: border-box;top: 0;bottom: 0;left: 50%;z-index: 0;}#sk-container-id-7 div.sk-serial {display: flex;flex-direction: column;align-items: center;background-color: white;padding-right: 0.2em;padding-left: 0.2em;position: relative;}#sk-container-id-7 div.sk-item {position: relative;z-index: 1;}#sk-container-id-7 div.sk-parallel {display: flex;align-items: stretch;justify-content: center;background-color: white;position: relative;}#sk-container-id-7 div.sk-item::before, #sk-container-id-7 div.sk-parallel-item::before {content: \"\";position: absolute;border-left: 1px solid gray;box-sizing: border-box;top: 0;bottom: 0;left: 50%;z-index: -1;}#sk-container-id-7 div.sk-parallel-item {display: flex;flex-direction: column;z-index: 1;position: relative;background-color: white;}#sk-container-id-7 div.sk-parallel-item:first-child::after {align-self: flex-end;width: 50%;}#sk-container-id-7 div.sk-parallel-item:last-child::after {align-self: flex-start;width: 50%;}#sk-container-id-7 div.sk-parallel-item:only-child::after {width: 0;}#sk-container-id-7 div.sk-dashed-wrapped {border: 1px dashed gray;margin: 0 0.4em 0.5em 0.4em;box-sizing: border-box;padding-bottom: 0.4em;background-color: white;}#sk-container-id-7 div.sk-label label {font-family: monospace;font-weight: bold;display: inline-block;line-height: 1.2em;}#sk-container-id-7 div.sk-label-container {text-align: center;}#sk-container-id-7 div.sk-container {/* jupyter's `normalize.less` sets `[hidden] { display: none; }` but bootstrap.min.css set `[hidden] { display: none !important; }` so we also need the `!important` here to be able to override the default hidden behavior on the sphinx rendered scikit-learn.org. See: https://github.com/scikit-learn/scikit-learn/issues/21755 */display: inline-block !important;position: relative;}#sk-container-id-7 div.sk-text-repr-fallback {display: none;}</style><div id=\"sk-container-id-7\" class=\"sk-top-container\"><div class=\"sk-text-repr-fallback\"><pre>RandomForestClassifier(n_estimators=150, n_jobs=-1, random_state=123)</pre><b>In a Jupyter environment, please rerun this cell to show the HTML representation or trust the notebook. <br />On GitHub, the HTML representation is unable to render, please try loading this page with nbviewer.org.</b></div><div class=\"sk-container\" hidden><div class=\"sk-item\"><div class=\"sk-estimator sk-toggleable\"><input class=\"sk-toggleable__control sk-hidden--visually\" id=\"sk-estimator-id-7\" type=\"checkbox\" checked><label for=\"sk-estimator-id-7\" class=\"sk-toggleable__label sk-toggleable__label-arrow\">RandomForestClassifier</label><div class=\"sk-toggleable__content\"><pre>RandomForestClassifier(n_estimators=150, n_jobs=-1, random_state=123)</pre></div></div></div></div></div>"
      ],
      "text/plain": [
       "RandomForestClassifier(n_estimators=150, n_jobs=-1, random_state=123)"
      ]
     },
     "execution_count": 319,
     "metadata": {},
     "output_type": "execute_result"
    }
   ],
   "source": [
    "from sklearn.ensemble import RandomForestClassifier\n",
    "# Entrenamiento del modelo\n",
    "# ==============================================================================\n",
    "ranfor_wrap = RandomForestClassifier(\n",
    "            n_estimators = 150,\n",
    "            criterion    = 'gini',\n",
    "            n_jobs       = -1,\n",
    "            random_state = 123\n",
    "         )\n",
    "ranfor_wrap.fit(X_train_ranfor_wrap, y1_train)"
   ]
  },
  {
   "cell_type": "code",
   "execution_count": 321,
   "metadata": {},
   "outputs": [
    {
     "name": "stdout",
     "output_type": "stream",
     "text": [
      "Train - Accuracy : 0.9998975829578042\n",
      "Train - classification report:\n",
      "               precision    recall  f1-score   support\n",
      "\n",
      "           0       1.00      1.00      1.00      8218\n",
      "           1       1.00      1.00      1.00      1546\n",
      "\n",
      "    accuracy                           1.00      9764\n",
      "   macro avg       1.00      1.00      1.00      9764\n",
      "weighted avg       1.00      1.00      1.00      9764\n",
      "\n",
      "Test - Accuracy : 0.9061859893486276\n",
      "Test - classification report\n",
      ":               precision    recall  f1-score   support\n",
      "\n",
      "           0       0.93      0.97      0.95      2079\n",
      "           1       0.74      0.56      0.64       362\n",
      "\n",
      "    accuracy                           0.91      2441\n",
      "   macro avg       0.84      0.76      0.79      2441\n",
      "weighted avg       0.90      0.91      0.90      2441\n",
      "\n"
     ]
    }
   ],
   "source": [
    "# Métricas de desempeño\n",
    "# ==============================================================================\n",
    "print (\"Train - Accuracy :\", metrics.accuracy_score(y1_train, ranfor_wrap.predict(X_train_ranfor_wrap)))\n",
    "print (\"Train - classification report:\\n\", metrics.classification_report(y1_train, ranfor_wrap.predict(X_train_ranfor_wrap)))\n",
    "print (\"Test - Accuracy :\", metrics.accuracy_score(y1_test, ranfor_wrap.predict(X_test_ranfor_wrap)))\n",
    "print (\"Test - classification report\\n:\", metrics.classification_report(y1_test, ranfor_wrap.predict(X_test_ranfor_wrap)))"
   ]
  },
  {
   "cell_type": "code",
   "execution_count": 322,
   "metadata": {},
   "outputs": [
    {
     "data": {
      "image/png": "[encoded data removed]",
      "text/plain": [
       "<Figure size 640x480 with 2 Axes>"
      ]
     },
     "metadata": {},
     "output_type": "display_data"
    }
   ],
   "source": [
    "from sklearn.metrics import confusion_matrix, ConfusionMatrixDisplay\n",
    "\n",
    "cm_ranfor_wrap = confusion_matrix(y1_test, ranfor_wrap.predict(X_test_ranfor_wrap))\n",
    "cm_ranfor_wrap_display = ConfusionMatrixDisplay(confusion_matrix = cm_ranfor_wrap)\n",
    "cm_ranfor_wrap_display.plot()\n",
    "plt.show()"
   ]
  },
  {
   "cell_type": "code",
   "execution_count": 323,
   "metadata": {},
   "outputs": [
    {
     "name": "stdout",
     "output_type": "stream",
     "text": [
      "AUC del modelo base: 0.9111\n"
     ]
    }
   ],
   "source": [
    "from sklearn.metrics import roc_auc_score\n",
    "\n",
    "y_pred_proba_ranfor_wrap = ranfor_wrap.predict_proba(X_test_ranfor_wrap)[:, 1]\n",
    "auc_score = roc_auc_score(y1_test, y_pred_proba_ranfor_wrap)\n",
    "print(\"AUC del modelo base:\", round(auc_score, 4))"
   ]
  },
  {
   "cell_type": "markdown",
   "metadata": {},
   "source": [
    "### <font color='157699'> **2.1.2. Random Forest con Integrado** </font>"
   ]
  },
  {
   "cell_type": "code",
   "execution_count": 326,
   "metadata": {},
   "outputs": [],
   "source": [
    "X_train_ranfor_intg = X_train_intg\n",
    "X_test_ranfor_intg = X_test_intg"
   ]
  },
  {
   "cell_type": "code",
   "execution_count": 327,
   "metadata": {},
   "outputs": [
    {
     "data": {
      "text/html": [
       "<style>#sk-container-id-9 {color: black;background-color: white;}#sk-container-id-9 pre{padding: 0;}#sk-container-id-9 div.sk-toggleable {background-color: white;}#sk-container-id-9 label.sk-toggleable__label {cursor: pointer;display: block;width: 100%;margin-bottom: 0;padding: 0.3em;box-sizing: border-box;text-align: center;}#sk-container-id-9 label.sk-toggleable__label-arrow:before {content: \"▸\";float: left;margin-right: 0.25em;color: #696969;}#sk-container-id-9 label.sk-toggleable__label-arrow:hover:before {color: black;}#sk-container-id-9 div.sk-estimator:hover label.sk-toggleable__label-arrow:before {color: black;}#sk-container-id-9 div.sk-toggleable__content {max-height: 0;max-width: 0;overflow: hidden;text-align: left;background-color: #f0f8ff;}#sk-container-id-9 div.sk-toggleable__content pre {margin: 0.2em;color: black;border-radius: 0.25em;background-color: #f0f8ff;}#sk-container-id-9 input.sk-toggleable__control:checked~div.sk-toggleable__content {max-height: 200px;max-width: 100%;overflow: auto;}#sk-container-id-9 input.sk-toggleable__control:checked~label.sk-toggleable__label-arrow:before {content: \"▾\";}#sk-container-id-9 div.sk-estimator input.sk-toggleable__control:checked~label.sk-toggleable__label {background-color: #d4ebff;}#sk-container-id-9 div.sk-label input.sk-toggleable__control:checked~label.sk-toggleable__label {background-color: #d4ebff;}#sk-container-id-9 input.sk-hidden--visually {border: 0;clip: rect(1px 1px 1px 1px);clip: rect(1px, 1px, 1px, 1px);height: 1px;margin: -1px;overflow: hidden;padding: 0;position: absolute;width: 1px;}#sk-container-id-9 div.sk-estimator {font-family: monospace;background-color: #f0f8ff;border: 1px dotted black;border-radius: 0.25em;box-sizing: border-box;margin-bottom: 0.5em;}#sk-container-id-9 div.sk-estimator:hover {background-color: #d4ebff;}#sk-container-id-9 div.sk-parallel-item::after {content: \"\";width: 100%;border-bottom: 1px solid gray;flex-grow: 1;}#sk-container-id-9 div.sk-label:hover label.sk-toggleable__label {background-color: #d4ebff;}#sk-container-id-9 div.sk-serial::before {content: \"\";position: absolute;border-left: 1px solid gray;box-sizing: border-box;top: 0;bottom: 0;left: 50%;z-index: 0;}#sk-container-id-9 div.sk-serial {display: flex;flex-direction: column;align-items: center;background-color: white;padding-right: 0.2em;padding-left: 0.2em;position: relative;}#sk-container-id-9 div.sk-item {position: relative;z-index: 1;}#sk-container-id-9 div.sk-parallel {display: flex;align-items: stretch;justify-content: center;background-color: white;position: relative;}#sk-container-id-9 div.sk-item::before, #sk-container-id-9 div.sk-parallel-item::before {content: \"\";position: absolute;border-left: 1px solid gray;box-sizing: border-box;top: 0;bottom: 0;left: 50%;z-index: -1;}#sk-container-id-9 div.sk-parallel-item {display: flex;flex-direction: column;z-index: 1;position: relative;background-color: white;}#sk-container-id-9 div.sk-parallel-item:first-child::after {align-self: flex-end;width: 50%;}#sk-container-id-9 div.sk-parallel-item:last-child::after {align-self: flex-start;width: 50%;}#sk-container-id-9 div.sk-parallel-item:only-child::after {width: 0;}#sk-container-id-9 div.sk-dashed-wrapped {border: 1px dashed gray;margin: 0 0.4em 0.5em 0.4em;box-sizing: border-box;padding-bottom: 0.4em;background-color: white;}#sk-container-id-9 div.sk-label label {font-family: monospace;font-weight: bold;display: inline-block;line-height: 1.2em;}#sk-container-id-9 div.sk-label-container {text-align: center;}#sk-container-id-9 div.sk-container {/* jupyter's `normalize.less` sets `[hidden] { display: none; }` but bootstrap.min.css set `[hidden] { display: none !important; }` so we also need the `!important` here to be able to override the default hidden behavior on the sphinx rendered scikit-learn.org. See: https://github.com/scikit-learn/scikit-learn/issues/21755 */display: inline-block !important;position: relative;}#sk-container-id-9 div.sk-text-repr-fallback {display: none;}</style><div id=\"sk-container-id-9\" class=\"sk-top-container\"><div class=\"sk-text-repr-fallback\"><pre>RandomForestClassifier(n_estimators=150, n_jobs=-1, random_state=123)</pre><b>In a Jupyter environment, please rerun this cell to show the HTML representation or trust the notebook. <br />On GitHub, the HTML representation is unable to render, please try loading this page with nbviewer.org.</b></div><div class=\"sk-container\" hidden><div class=\"sk-item\"><div class=\"sk-estimator sk-toggleable\"><input class=\"sk-toggleable__control sk-hidden--visually\" id=\"sk-estimator-id-9\" type=\"checkbox\" checked><label for=\"sk-estimator-id-9\" class=\"sk-toggleable__label sk-toggleable__label-arrow\">RandomForestClassifier</label><div class=\"sk-toggleable__content\"><pre>RandomForestClassifier(n_estimators=150, n_jobs=-1, random_state=123)</pre></div></div></div></div></div>"
      ],
      "text/plain": [
       "RandomForestClassifier(n_estimators=150, n_jobs=-1, random_state=123)"
      ]
     },
     "execution_count": 327,
     "metadata": {},
     "output_type": "execute_result"
    }
   ],
   "source": [
    "from sklearn.ensemble import RandomForestClassifier\n",
    "\n",
    "ranfor_intg = RandomForestClassifier(\n",
    "            n_estimators = 150,\n",
    "            criterion    = 'gini',\n",
    "            #max_depth    = 5,\n",
    "            #max_leaf_nodes = 10,\n",
    "            n_jobs       = -1,\n",
    "            random_state = 123\n",
    "         )\n",
    "ranfor_intg.fit(X_train_ranfor_intg, y1_train)"
   ]
  },
  {
   "cell_type": "code",
   "execution_count": 328,
   "metadata": {},
   "outputs": [
    {
     "data": {
      "image/png": "[encoded data removed]",
      "text/plain": [
       "<Figure size 640x480 with 2 Axes>"
      ]
     },
     "metadata": {},
     "output_type": "display_data"
    }
   ],
   "source": [
    "cm_ranfor_intg = confusion_matrix(y1_test, ranfor_intg.predict(X_test_ranfor_intg))\n",
    "cm_ranfor_intg_display = ConfusionMatrixDisplay(confusion_matrix = cm_ranfor_intg)\n",
    "cm_ranfor_intg_display.plot()\n",
    "plt.show()"
   ]
  },
  {
   "cell_type": "code",
   "execution_count": 330,
   "metadata": {},
   "outputs": [
    {
     "name": "stdout",
     "output_type": "stream",
     "text": [
      "Train - Accuracy : 0.9995903318312167\n",
      "Train - classification report:\n",
      "               precision    recall  f1-score   support\n",
      "\n",
      "           0       1.00      1.00      1.00      8218\n",
      "           1       1.00      1.00      1.00      1546\n",
      "\n",
      "    accuracy                           1.00      9764\n",
      "   macro avg       1.00      1.00      1.00      9764\n",
      "weighted avg       1.00      1.00      1.00      9764\n",
      "\n",
      "Test - Accuracy : 0.9020893076607948\n",
      "Test - classification report\n",
      ":               precision    recall  f1-score   support\n",
      "\n",
      "           0       0.93      0.96      0.94      2079\n",
      "           1       0.71      0.57      0.63       362\n",
      "\n",
      "    accuracy                           0.90      2441\n",
      "   macro avg       0.82      0.77      0.79      2441\n",
      "weighted avg       0.90      0.90      0.90      2441\n",
      "\n"
     ]
    }
   ],
   "source": [
    "# Métricas de desempeño\n",
    "# ==============================================================================\n",
    "print (\"Train - Accuracy :\", metrics.accuracy_score(y1_train, ranfor_intg.predict(X_train_ranfor_intg)))\n",
    "print (\"Train - classification report:\\n\", metrics.classification_report(y1_train, ranfor_intg.predict(X_train_ranfor_intg)))\n",
    "print (\"Test - Accuracy :\", metrics.accuracy_score(y1_test, ranfor_intg.predict(X_test_ranfor_intg)))\n",
    "print (\"Test - classification report\\n:\", metrics.classification_report(y1_test, ranfor_intg.predict(X_test_ranfor_intg)))"
   ]
  },
  {
   "cell_type": "code",
   "execution_count": 331,
   "metadata": {},
   "outputs": [
    {
     "name": "stdout",
     "output_type": "stream",
     "text": [
      "AUC del modelo base: 0.9196\n"
     ]
    }
   ],
   "source": [
    "from sklearn.metrics import roc_auc_score\n",
    "\n",
    "y_pred_proba_ranfor_intg = ranfor_intg.predict_proba(X_test_ranfor_intg)[:, 1]\n",
    "auc_score = roc_auc_score(y1_test, y_pred_proba_ranfor_intg)\n",
    "print(\"AUC del modelo base:\", round(auc_score, 4))"
   ]
  },
  {
   "cell_type": "markdown",
   "metadata": {},
   "source": [
    "### <font color='157699'> **2.1.3. Random Forest con Tunning de Hiperparámetros** </font>"
   ]
  },
  {
   "cell_type": "markdown",
   "metadata": {},
   "source": [
    "#### Integrado"
   ]
  },
  {
   "cell_type": "code",
   "execution_count": 332,
   "metadata": {},
   "outputs": [],
   "source": [
    "# Importar librerias adicionales\n",
    "# ==============================================================================\n",
    "from sklearn.model_selection import cross_validate\n",
    "from sklearn.model_selection import GridSearchCV\n",
    "from sklearn.model_selection import RandomizedSearchCV\n",
    "import pprint"
   ]
  },
  {
   "cell_type": "code",
   "execution_count": 333,
   "metadata": {},
   "outputs": [],
   "source": [
    "## Definir cuadricula de búsqueda\n",
    "# =================================================\n",
    "parameters = {\n",
    "    'max_depth': [5, 10, 15],\n",
    "    'max_features': [0.4, 0.6, 0.8],\n",
    "    'max_leaf_nodes': [12, 14, 16],\n",
    "    'min_samples_leaf': [8 ,10, 15],\n",
    "    'n_estimators': [50, 100, 150]\n",
    "}"
   ]
  },
  {
   "cell_type": "code",
   "execution_count": 334,
   "metadata": {},
   "outputs": [
    {
     "name": "stdout",
     "output_type": "stream",
     "text": [
      "Best Params:  {'max_depth': 5, 'max_features': 0.6, 'max_leaf_nodes': 16, 'min_samples_leaf': 8, 'n_estimators': 150}\n",
      "Best Score:  0.9314074093012696\n"
     ]
    }
   ],
   "source": [
    "# Búsqueda en Cuadricula\n",
    "# ==============================================================================\n",
    "\n",
    "# Modelo para tunning\n",
    "ranfor_tnn_intg = RandomForestClassifier(\n",
    "    criterion = 'gini',\n",
    "    n_jobs = -1,\n",
    "    class_weight='balanced',\n",
    "    random_state= 123\n",
    ")\n",
    "\n",
    "grid_search = GridSearchCV(ranfor_tnn_intg, parameters, scoring = 'roc_auc', cv=5, n_jobs=-1)\n",
    "\n",
    "# Iniciamos la busqueda\n",
    "grid_result = grid_search.fit(X_train_intg, y1_train)\n",
    "\n",
    "print('Best Params: ', grid_result.best_params_)\n",
    "print('Best Score: ', grid_result.best_score_)"
   ]
  },
  {
   "cell_type": "code",
   "execution_count": 335,
   "metadata": {},
   "outputs": [
    {
     "name": "stdout",
     "output_type": "stream",
     "text": [
      "Características usadas en el entrenamiento:  ['Reviews' 'ProductRelated' 'ExitRates' 'PageValues' 'SpecialDay'\n",
      " 'Weekend' 'Month_Dec' 'Month_Jul' 'Month_Mar' 'Month_May' 'Month_Nov'\n",
      " 'OperatingSystems_2' 'OperatingSystems_3' 'TrafficType_1'\n",
      " 'TrafficType_10' 'TrafficType_13' 'TrafficType_2' 'TrafficType_3'\n",
      " 'VisitorType_New_Visitor']\n",
      "Importancia de las carcaterísticas:  [1.80846482e-02 4.41137734e-02 6.62451001e-02 7.77235052e-01\n",
      " 9.37516560e-04 2.37278744e-04 3.75210189e-04 2.19791175e-03\n",
      " 7.34663956e-03 1.65198883e-02 6.10137384e-02 2.05016596e-04\n",
      " 3.79541420e-04 1.64425474e-04 1.41910216e-04 6.18493106e-04\n",
      " 1.10813589e-03 9.33267751e-04 2.14245228e-03]\n"
     ]
    }
   ],
   "source": [
    "print('Características usadas en el entrenamiento: ', grid_result.best_estimator_.feature_names_in_)\n",
    "print('Importancia de las carcaterísticas: ', grid_result.best_estimator_.feature_importances_)"
   ]
  },
  {
   "cell_type": "code",
   "execution_count": 337,
   "metadata": {},
   "outputs": [
    {
     "ename": "NotFittedError",
     "evalue": "This RandomForestClassifier instance is not fitted yet. Call 'fit' with appropriate arguments before using this estimator.",
     "output_type": "error",
     "traceback": [
      "\u001b[1;31m---------------------------------------------------------------------------\u001b[0m",
      "\u001b[1;31mNotFittedError\u001b[0m                            Traceback (most recent call last)",
      "Cell \u001b[1;32mIn[337], line 6\u001b[0m\n\u001b[0;32m      2\u001b[0m \u001b[38;5;28;01mfrom\u001b[39;00m \u001b[38;5;21;01msklearn\u001b[39;00m\u001b[38;5;21;01m.\u001b[39;00m\u001b[38;5;21;01mmetrics\u001b[39;00m \u001b[38;5;28;01mimport\u001b[39;00m accuracy_score, classification_report\n\u001b[0;32m      4\u001b[0m \u001b[38;5;66;03m# Métricas de desempeño\u001b[39;00m\n\u001b[0;32m      5\u001b[0m \u001b[38;5;66;03m# ==============================================================================\u001b[39;00m\n\u001b[1;32m----> 6\u001b[0m \u001b[38;5;28mprint\u001b[39m (\u001b[38;5;124m\"\u001b[39m\u001b[38;5;124mTrain - Accuracy :\u001b[39m\u001b[38;5;124m\"\u001b[39m, metrics\u001b[38;5;241m.\u001b[39maccuracy_score(y1_train, \u001b[43mranfor_tnn_intg\u001b[49m\u001b[38;5;241;43m.\u001b[39;49m\u001b[43mpredict\u001b[49m\u001b[43m(\u001b[49m\u001b[43mX_train_intg\u001b[49m\u001b[43m)\u001b[49m))\n\u001b[0;32m      7\u001b[0m \u001b[38;5;28mprint\u001b[39m (\u001b[38;5;124m\"\u001b[39m\u001b[38;5;124mTrain - classification report:\u001b[39m\u001b[38;5;130;01m\\n\u001b[39;00m\u001b[38;5;124m\"\u001b[39m, metrics\u001b[38;5;241m.\u001b[39mclassification_report(y1_train, ranfor_tnn_intg\u001b[38;5;241m.\u001b[39mpredict(X_train_intg)))\n\u001b[0;32m      8\u001b[0m \u001b[38;5;28mprint\u001b[39m (\u001b[38;5;124m\"\u001b[39m\u001b[38;5;124mTest - Accuracy :\u001b[39m\u001b[38;5;124m\"\u001b[39m, metrics\u001b[38;5;241m.\u001b[39maccuracy_score(y1_test, ranfor_tnn_intg\u001b[38;5;241m.\u001b[39mpredict(X_test_intg)))\n",
      "File \u001b[1;32mc:\\Users\\cr-19\\anaconda3\\lib\\site-packages\\sklearn\\ensemble\\_forest.py:820\u001b[0m, in \u001b[0;36mForestClassifier.predict\u001b[1;34m(self, X)\u001b[0m\n\u001b[0;32m    799\u001b[0m \u001b[38;5;28;01mdef\u001b[39;00m \u001b[38;5;21mpredict\u001b[39m(\u001b[38;5;28mself\u001b[39m, X):\n\u001b[0;32m    800\u001b[0m \u001b[38;5;250m    \u001b[39m\u001b[38;5;124;03m\"\"\"\u001b[39;00m\n\u001b[0;32m    801\u001b[0m \u001b[38;5;124;03m    Predict class for X.\u001b[39;00m\n\u001b[0;32m    802\u001b[0m \n\u001b[1;32m   (...)\u001b[0m\n\u001b[0;32m    818\u001b[0m \u001b[38;5;124;03m        The predicted classes.\u001b[39;00m\n\u001b[0;32m    819\u001b[0m \u001b[38;5;124;03m    \"\"\"\u001b[39;00m\n\u001b[1;32m--> 820\u001b[0m     proba \u001b[38;5;241m=\u001b[39m \u001b[38;5;28;43mself\u001b[39;49m\u001b[38;5;241;43m.\u001b[39;49m\u001b[43mpredict_proba\u001b[49m\u001b[43m(\u001b[49m\u001b[43mX\u001b[49m\u001b[43m)\u001b[49m\n\u001b[0;32m    822\u001b[0m     \u001b[38;5;28;01mif\u001b[39;00m \u001b[38;5;28mself\u001b[39m\u001b[38;5;241m.\u001b[39mn_outputs_ \u001b[38;5;241m==\u001b[39m \u001b[38;5;241m1\u001b[39m:\n\u001b[0;32m    823\u001b[0m         \u001b[38;5;28;01mreturn\u001b[39;00m \u001b[38;5;28mself\u001b[39m\u001b[38;5;241m.\u001b[39mclasses_\u001b[38;5;241m.\u001b[39mtake(np\u001b[38;5;241m.\u001b[39margmax(proba, axis\u001b[38;5;241m=\u001b[39m\u001b[38;5;241m1\u001b[39m), axis\u001b[38;5;241m=\u001b[39m\u001b[38;5;241m0\u001b[39m)\n",
      "File \u001b[1;32mc:\\Users\\cr-19\\anaconda3\\lib\\site-packages\\sklearn\\ensemble\\_forest.py:860\u001b[0m, in \u001b[0;36mForestClassifier.predict_proba\u001b[1;34m(self, X)\u001b[0m\n\u001b[0;32m    838\u001b[0m \u001b[38;5;28;01mdef\u001b[39;00m \u001b[38;5;21mpredict_proba\u001b[39m(\u001b[38;5;28mself\u001b[39m, X):\n\u001b[0;32m    839\u001b[0m \u001b[38;5;250m    \u001b[39m\u001b[38;5;124;03m\"\"\"\u001b[39;00m\n\u001b[0;32m    840\u001b[0m \u001b[38;5;124;03m    Predict class probabilities for X.\u001b[39;00m\n\u001b[0;32m    841\u001b[0m \n\u001b[1;32m   (...)\u001b[0m\n\u001b[0;32m    858\u001b[0m \u001b[38;5;124;03m        classes corresponds to that in the attribute :term:`classes_`.\u001b[39;00m\n\u001b[0;32m    859\u001b[0m \u001b[38;5;124;03m    \"\"\"\u001b[39;00m\n\u001b[1;32m--> 860\u001b[0m     \u001b[43mcheck_is_fitted\u001b[49m\u001b[43m(\u001b[49m\u001b[38;5;28;43mself\u001b[39;49m\u001b[43m)\u001b[49m\n\u001b[0;32m    861\u001b[0m     \u001b[38;5;66;03m# Check data\u001b[39;00m\n\u001b[0;32m    862\u001b[0m     X \u001b[38;5;241m=\u001b[39m \u001b[38;5;28mself\u001b[39m\u001b[38;5;241m.\u001b[39m_validate_X_predict(X)\n",
      "File \u001b[1;32mc:\\Users\\cr-19\\anaconda3\\lib\\site-packages\\sklearn\\utils\\validation.py:1390\u001b[0m, in \u001b[0;36mcheck_is_fitted\u001b[1;34m(estimator, attributes, msg, all_or_any)\u001b[0m\n\u001b[0;32m   1385\u001b[0m     fitted \u001b[38;5;241m=\u001b[39m [\n\u001b[0;32m   1386\u001b[0m         v \u001b[38;5;28;01mfor\u001b[39;00m v \u001b[38;5;129;01min\u001b[39;00m \u001b[38;5;28mvars\u001b[39m(estimator) \u001b[38;5;28;01mif\u001b[39;00m v\u001b[38;5;241m.\u001b[39mendswith(\u001b[38;5;124m\"\u001b[39m\u001b[38;5;124m_\u001b[39m\u001b[38;5;124m\"\u001b[39m) \u001b[38;5;129;01mand\u001b[39;00m \u001b[38;5;129;01mnot\u001b[39;00m v\u001b[38;5;241m.\u001b[39mstartswith(\u001b[38;5;124m\"\u001b[39m\u001b[38;5;124m__\u001b[39m\u001b[38;5;124m\"\u001b[39m)\n\u001b[0;32m   1387\u001b[0m     ]\n\u001b[0;32m   1389\u001b[0m \u001b[38;5;28;01mif\u001b[39;00m \u001b[38;5;129;01mnot\u001b[39;00m fitted:\n\u001b[1;32m-> 1390\u001b[0m     \u001b[38;5;28;01mraise\u001b[39;00m NotFittedError(msg \u001b[38;5;241m%\u001b[39m {\u001b[38;5;124m\"\u001b[39m\u001b[38;5;124mname\u001b[39m\u001b[38;5;124m\"\u001b[39m: \u001b[38;5;28mtype\u001b[39m(estimator)\u001b[38;5;241m.\u001b[39m\u001b[38;5;18m__name__\u001b[39m})\n",
      "\u001b[1;31mNotFittedError\u001b[0m: This RandomForestClassifier instance is not fitted yet. Call 'fit' with appropriate arguments before using this estimator."
     ]
    }
   ],
   "source": [
    "from sklearn.ensemble import RandomForestClassifier\n",
    "from sklearn.metrics import accuracy_score, classification_report\n",
    "\n",
    "# Métricas de desempeño\n",
    "# ==============================================================================\n",
    "print (\"Train - Accuracy :\", metrics.accuracy_score(y1_train, ranfor_tnn_intg.predict(X_train_intg)))\n",
    "print (\"Train - classification report:\\n\", metrics.classification_report(y1_train, ranfor_tnn_intg.predict(X_train_intg)))\n",
    "print (\"Test - Accuracy :\", metrics.accuracy_score(y1_test, ranfor_tnn_intg.predict(X_test_intg)))\n",
    "print (\"Test - classification report\\n:\", metrics.classification_report(y1_test, ranfor_tnn_intg.predict(X_test_intg)))"
   ]
  },
  {
   "cell_type": "code",
   "execution_count": 117,
   "metadata": {},
   "outputs": [
    {
     "data": {
      "image/png": "[encoded data removed]",
      "text/plain": [
       "<Figure size 640x480 with 2 Axes>"
      ]
     },
     "metadata": {},
     "output_type": "display_data"
    }
   ],
   "source": [
    "# Matriz de confusion\n",
    "cm1= confusion_matrix(y_test, ranfor_optimo.predict(X_test_ranfor_intg))\n",
    "# Visualización de la matriz de confusion\n",
    "cm1_display = ConfusionMatrixDisplay(confusion_matrix = cm1)\n",
    "cm1_display.plot()\n",
    "plt.show()"
   ]
  },
  {
   "cell_type": "code",
   "execution_count": null,
   "metadata": {},
   "outputs": [],
   "source": [
    "from sklearn.metrics import roc_curve, auc\n",
    "import matplotlib.pyplot as plt\n",
    "\n",
    "# Ajustar el modelo con los mejores parámetros encontrados\n",
    "best_model = grid_result.best_estimator_\n",
    "best_model.fit(X_train_ranfor_intg, y_train)\n",
    "\n",
    "# Predicciones de probabilidad en el conjunto de prueba\n",
    "y_pred_proba = best_model.predict_proba(X_test_ranfor_intg)[:, 1]\n",
    "\n",
    "# Calcular la tasa de falsos positivos (fpr) y la tasa de verdaderos positivos (tpr)\n",
    "fpr, tpr, _ = roc_curve(y_test, y_pred_proba)\n",
    "\n",
    "# Calcular el área bajo la curva ROC (AUC)\n",
    "roc_auc = auc(fpr, tpr)\n",
    "\n",
    "# Graficar la curva ROC\n",
    "plt.figure(figsize=(8, 6))\n",
    "plt.plot(fpr, tpr, color='darkorange', lw=2, label='ROC curve (area = %0.2f)' % roc_auc)\n",
    "plt.plot([0, 1], [0, 1], color='navy', lw=2, linestyle='--')\n",
    "plt.xlim([0.0, 1.0])\n",
    "plt.ylim([0.0, 1.05])\n",
    "plt.xlabel('False Positive Rate')\n",
    "plt.ylabel('True Positive Rate')\n",
    "plt.title('Receiver Operating Characteristic (ROC) Curve')\n",
    "plt.legend(loc=\"lower right\")\n",
    "plt.show()\n",
    "\n",
    "# Valor del AUC\n",
    "print(\"Valor del AUC:\", roc_auc)\n"
   ]
  },
  {
   "cell_type": "markdown",
   "metadata": {},
   "source": [
    "#### Wrapper"
   ]
  },
  {
   "cell_type": "code",
   "execution_count": null,
   "metadata": {},
   "outputs": [],
   "source": [
    "# Búsqueda en Cuadricula\n",
    "# ==============================================================================\n",
    "\n",
    "# Modelo para tunning\n",
    "ranfor_1 = RandomForestClassifier(\n",
    "    criterion = 'gini',\n",
    "    n_jobs = -1,\n",
    "    class_weight='balanced',\n",
    "    random_state= 123\n",
    ")\n",
    "\n",
    "grid_search = GridSearchCV(ranfor_1, parameters, scoring = 'roc_auc', cv=5, n_jobs=-1)\n",
    "\n",
    "# Iniciamos la busqueda\n",
    "grid_result = grid_search.fit(X_train_ranfor_wrap, y_train)\n",
    "\n",
    "print('Best Params: ', grid_result.best_params_)\n",
    "print('Best Score: ', grid_result.best_score_)"
   ]
  },
  {
   "cell_type": "code",
   "execution_count": null,
   "metadata": {},
   "outputs": [],
   "source": [
    "print('Características usadas en el entrenamiento: ', grid_result.best_estimator_.feature_names_in_)\n",
    "print('Importancia de las carcaterísticas: ', grid_result.best_estimator_.feature_importances_)"
   ]
  },
  {
   "cell_type": "code",
   "execution_count": null,
   "metadata": {},
   "outputs": [],
   "source": [
    "from sklearn.model_selection import GridSearchCV\n",
    "\n",
    "\n",
    "grid_search = GridSearchCV(ranfor_1, parameters, scoring='roc_auc', cv=5, n_jobs=-1)\n",
    "\n",
    "# Iniciamos la búsqueda\n",
    "grid_result = grid_search.fit(X_train_ranfor_wrap, y_train)\n",
    "\n",
    "# Aquí es donde ajustamos el modelo óptimo\n",
    "ranfor_optimo = grid_result.best_estimator_\n",
    "ranfor_optimo.fit(X_train_ranfor_wrap, y_train)\n",
    "\n",
    "print('Best Params: ', grid_result.best_params_)\n",
    "print('Best Score: ', grid_result.best_score_)\n",
    "\n",
    "print('Características usadas en el entrenamiento: ', ranfor_optimo.feature_names_in_)\n",
    "print('Importancia de las características: ', ranfor_optimo.feature_importances_)\n",
    "\n",
    "# Métricas de desempeño\n",
    "# ==============================================================================\n",
    "print(\"Train - Accuracy :\", metrics.accuracy_score(y_train, ranfor_optimo.predict(X_train_ranfor_wrap)))\n",
    "print(\"Train - classification report:\\n\", metrics.classification_report(y_train, ranfor_optimo.predict(X_train_ranfor_wrap)))\n",
    "print(\"Test - Accuracy :\", metrics.accuracy_score(y_test, ranfor_optimo.predict(X_test_ranfor_wrap)))\n",
    "print(\"Test - classification report :\", metrics.classification_report(y_test, ranfor_optimo.predict(X_test_ranfor_wrap)))\n"
   ]
  },
  {
   "cell_type": "code",
   "execution_count": null,
   "metadata": {},
   "outputs": [],
   "source": [
    "# Métricas de desempeño\n",
    "# ==============================================================================\n",
    "print (\"Train - Accuracy :\", metrics.accuracy_score(y_train, ranfor_optimo.predict(X_train_ranfor_wrap)))\n",
    "print (\"Train - classification report:\\n\", metrics.classification_report(y_train, ranfor_optimo.predict(X_train_ranfor_wrap)))\n",
    "print (\"Test - Accuracy :\", metrics.accuracy_score(y_test, ranfor_optimo.predict(X_test_ranfor_wrap)))\n",
    "print (\"Test - classification report :\", metrics.classification_report(y_test, ranfor_optimo.predict(X_test_ranfor_wrap)))"
   ]
  },
  {
   "cell_type": "code",
   "execution_count": null,
   "metadata": {},
   "outputs": [],
   "source": [
    "# Matriz de confusion\n",
    "cm1= confusion_matrix(y_test, ranfor_optimo.predict(X_test_ranfor_wrap))\n",
    "# Visualización de la matriz de confusion\n",
    "cm1_display = ConfusionMatrixDisplay(confusion_matrix = cm1)\n",
    "cm1_display.plot()\n",
    "plt.show()"
   ]
  },
  {
   "cell_type": "code",
   "execution_count": null,
   "metadata": {},
   "outputs": [],
   "source": [
    "from sklearn.metrics import roc_auc_score\n",
    "\n",
    "# Predicciones de probabilidad en el conjunto de prueba\n",
    "y_pred_proba = grid_result.predict_proba(X_test_ranfor_wrap)[:, 1]\n",
    "\n",
    "# Calcular el AUC\n",
    "auc_score = roc_auc_score(y_test, y_pred_proba)\n",
    "\n",
    "print(\"AUC del modelo:\", auc_score)\n"
   ]
  },
  {
   "cell_type": "markdown",
   "metadata": {},
   "source": [
    "## <font color='157699'> **2.2. XGB Classifier** </font>\n",
    "---"
   ]
  },
  {
   "cell_type": "markdown",
   "metadata": {},
   "source": [
    "### <font color='157699'> **2.2.1. XGB con Wrapper** </font>"
   ]
  },
  {
   "cell_type": "code",
   "execution_count": null,
   "metadata": {},
   "outputs": [],
   "source": [
    "X_train_XGB_wrap = X_train_wrap\n",
    "X_test_XGB_wrap = X_test_wrap"
   ]
  },
  {
   "cell_type": "code",
   "execution_count": null,
   "metadata": {},
   "outputs": [],
   "source": [
    "#%pip install xgboost\n",
    "from xgboost import XGBClassifier\n",
    "# Entrenamiento del modelo: N_ESTIMATORS = 100, LEARNING_RATE = 0.1, , MAX_DEPTH = 4\n",
    "# ===================================================================================\n",
    "xgb = XGBClassifier(\n",
    "    n_estimators = 100,\n",
    "    learning_rate= 0.1,\n",
    "    max_depth = 4,\n",
    "    random_state = 123\n",
    ")\n",
    "\n",
    "xgb.fit(X_train_XGB_wrap, y_train)"
   ]
  },
  {
   "cell_type": "code",
   "execution_count": null,
   "metadata": {},
   "outputs": [],
   "source": [
    "# Métricas de desempeño\n",
    "# ==============================================================================\n",
    "print (\"Train - Accuracy :\", metrics.accuracy_score(y_train, xgb.predict(X_train_XGB_wrap)))\n",
    "print (\"Train - classification report:\\n\", metrics.classification_report(y_train, xgb.predict(X_train_XGB_wrap)))\n",
    "print (\"Test - Accuracy :\", metrics.accuracy_score(y_test, xgb.predict(X_test_XGB_wrap)))\n",
    "print (\"Test - classification report :\", metrics.classification_report(y_test, xgb.predict(X_test_XGB_wrap)))"
   ]
  },
  {
   "cell_type": "code",
   "execution_count": null,
   "metadata": {},
   "outputs": [],
   "source": [
    "# Matriz de confusión\n",
    "# ==============================================================================\n",
    "from sklearn.metrics import confusion_matrix, ConfusionMatrixDisplay\n",
    "# Matriz de confusion\n",
    "cm = confusion_matrix(y_test, xgb.predict(X_test_XGB_wrap))\n",
    "# Visualización de la matriz de confusion\n",
    "cm_display = ConfusionMatrixDisplay(confusion_matrix = cm)\n",
    "cm_display.plot()\n",
    "plt.show()"
   ]
  },
  {
   "cell_type": "code",
   "execution_count": null,
   "metadata": {},
   "outputs": [],
   "source": [
    "from sklearn.metrics import roc_curve, auc\n",
    "\n",
    "# Predicciones de probabilidad en el conjunto de prueba\n",
    "y_pred_proba = xgb.predict_proba(X_test_XGB_wrap)[:,1]\n",
    "\n",
    "# Calcula la tasa de falsos positivos (fpr), la tasa de verdaderos positivos (tpr)\n",
    "fpr, tpr, _ = roc_curve(y_test, y_pred_proba)\n",
    "\n",
    "# Calcula el área bajo la curva ROC (AUC)\n",
    "roc_auc = auc(fpr, tpr)\n",
    "\n",
    "# Grafica la curva ROC\n",
    "plt.figure(figsize=(8, 6))\n",
    "plt.plot(fpr, tpr, color='darkorange', lw=2, label='ROC curve (area = %0.2f)' % roc_auc)\n",
    "plt.plot([0, 1], [0, 1], color='navy', lw=2, linestyle='--')\n",
    "plt.xlim([0.0, 1.0])\n",
    "plt.ylim([0.0, 1.05])\n",
    "plt.xlabel('False Positive Rate')\n",
    "plt.ylabel('True Positive Rate')\n",
    "plt.title('Receiver Operating Characteristic (ROC) Curve')\n",
    "plt.legend(loc=\"lower right\")\n",
    "plt.show()\n",
    "\n",
    "# Valor del AUC\n",
    "print(\"Valor del AUC:\", roc_auc)\n"
   ]
  },
  {
   "cell_type": "markdown",
   "metadata": {},
   "source": [
    "### <font color='157699'> **2.2.2. XGB con Integrado** </font>"
   ]
  },
  {
   "cell_type": "code",
   "execution_count": null,
   "metadata": {},
   "outputs": [],
   "source": [
    "X_train_XGB_intg = X_train_intg\n",
    "X_test_XGB_intg = X_test_intg"
   ]
  },
  {
   "cell_type": "code",
   "execution_count": null,
   "metadata": {},
   "outputs": [],
   "source": [
    "# Entrenamiento del modelo: N_ESTIMATORS = 100, LEARNING_RATE = 0.1, , MAX_DEPTH = 4\n",
    "# ===================================================================================\n",
    "xgb = XGBClassifier(\n",
    "    n_estimators = 100,\n",
    "    learning_rate= 0.1,\n",
    "    max_depth = 4,\n",
    "    random_state = 123\n",
    ")\n",
    "\n",
    "xgb.fit(X_train_XGB_intg, y_train)"
   ]
  },
  {
   "cell_type": "code",
   "execution_count": null,
   "metadata": {},
   "outputs": [],
   "source": [
    "# Matriz de confusión\n",
    "# ==============================================================================\n",
    "from sklearn.metrics import confusion_matrix, ConfusionMatrixDisplay\n",
    "# Matriz de confusion\n",
    "cm = confusion_matrix(y_test, xgb.predict(X_test_XGB_intg))\n",
    "# Visualización de la matriz de confusion\n",
    "cm_display = ConfusionMatrixDisplay(confusion_matrix = cm)\n",
    "cm_display.plot()\n",
    "plt.show()"
   ]
  },
  {
   "cell_type": "code",
   "execution_count": null,
   "metadata": {},
   "outputs": [],
   "source": [
    "# Métricas de desempeño\n",
    "# ==============================================================================\n",
    "print (\"Train - Accuracy :\", metrics.accuracy_score(y_train, xgb.predict(X_train_XGB_intg)))\n",
    "print (\"Train - classification report:\\n\", metrics.classification_report(y_train, xgb.predict(X_train_XGB_intg)))\n",
    "print (\"Test - Accuracy :\", metrics.accuracy_score(y_test, xgb.predict(X_test_XGB_intg)))\n",
    "print (\"Test - classification report :\", metrics.classification_report(y_test, xgb.predict(X_test_XGB_intg)))"
   ]
  },
  {
   "cell_type": "code",
   "execution_count": null,
   "metadata": {},
   "outputs": [],
   "source": [
    "from sklearn.metrics import roc_curve, auc\n",
    "\n",
    "# Predicciones de probabilidad en el conjunto de prueba\n",
    "y_pred_proba = xgb.predict_proba(X_test_XGB_intg)[:,1]\n",
    "\n",
    "# Calcula la tasa de falsos positivos (fpr), la tasa de verdaderos positivos (tpr)\n",
    "fpr, tpr, _ = roc_curve(y_test, y_pred_proba)\n",
    "\n",
    "# Calcula el área bajo la curva ROC (AUC)\n",
    "roc_auc = auc(fpr, tpr)\n",
    "\n",
    "# Grafica la curva ROC\n",
    "plt.figure(figsize=(8, 6))\n",
    "plt.plot(fpr, tpr, color='darkorange', lw=2, label='ROC curve (area = %0.2f)' % roc_auc)\n",
    "plt.plot([0, 1], [0, 1], color='navy', lw=2, linestyle='--')\n",
    "plt.xlim([0.0, 1.0])\n",
    "plt.ylim([0.0, 1.05])\n",
    "plt.xlabel('False Positive Rate')\n",
    "plt.ylabel('True Positive Rate')\n",
    "plt.title('Receiver Operating Characteristic (ROC) Curve')\n",
    "plt.legend(loc=\"lower right\")\n",
    "plt.show()\n",
    "\n",
    "# Valor del AUC\n",
    "print(\"Valor del AUC:\", roc_auc)\n"
   ]
  },
  {
   "cell_type": "markdown",
   "metadata": {},
   "source": [
    "### <font color='157699'> **2.1.3. XGB con Tunning de Hiperparámetros** </font>"
   ]
  },
  {
   "cell_type": "markdown",
   "metadata": {},
   "source": [
    "#### Integrado"
   ]
  },
  {
   "cell_type": "code",
   "execution_count": null,
   "metadata": {},
   "outputs": [],
   "source": [
    "parameters = {\n",
    "    'n_estimators': [50, 100, 300],\n",
    "    'max_features': [5, 6, 7],\n",
    "    'max_depth': [3, 5, 7],\n",
    "    'learning_rate': [0.01, 0.03, 0.05],\n",
    "    'subsample': [0.7, 0.8, 0.9,]}"
   ]
  },
  {
   "cell_type": "code",
   "execution_count": null,
   "metadata": {},
   "outputs": [],
   "source": [
    "# Modelo para tunning\n",
    "XGB = GradientBoostingClassifier(\n",
    "    random_state= 123\n",
    ")\n",
    "\n",
    "grid_search = GridSearchCV(XGB, parameters, scoring = 'roc_auc', cv=5, n_jobs=-1)\n",
    "\n",
    "# Iniciamos la busqueda\n",
    "grid_result = grid_search.fit(X_train_XGB_intg, y_train)\n",
    "\n",
    "print('Best Params: ', grid_result.best_params_)\n",
    "print('Best Score: ', grid_result.best_score_)"
   ]
  },
  {
   "cell_type": "code",
   "execution_count": null,
   "metadata": {},
   "outputs": [],
   "source": [
    "print('Características usadas en el entrenamiento: ', grid_result.best_estimator_.feature_names_in_)\n",
    "print('Importancia de las carcaterísticas: ', grid_result.best_estimator_.feature_importances_)"
   ]
  },
  {
   "cell_type": "code",
   "execution_count": null,
   "metadata": {},
   "outputs": [],
   "source": [
    "# Métricas de desempeño\n",
    "# ==============================================================================\n",
    "print (\"Train - Accuracy :\", metrics.accuracy_score(y_train, XGB_optimo.predict(X_train_XGB_intg)))\n",
    "print (\"Train - classification report:\\n\", metrics.classification_report(y_train, XGB_optimo.predict(X_train_XGB_intg)))\n",
    "print (\"Test - Accuracy :\", metrics.accuracy_score(y_test, XGB_optimo.predict(X_test_XGB_intg)))\n",
    "print (\"Test - classification report :\", metrics.classification_report(y_test, XGB_optimo.predict(X_test_XGB_intg)))"
   ]
  },
  {
   "cell_type": "code",
   "execution_count": null,
   "metadata": {},
   "outputs": [],
   "source": [
    "# Matriz de confusion\n",
    "cm1= confusion_matrix(y_test, XGB_optimo.predict(X_test_XGB_intg))\n",
    "# Visualización de la matriz de confusion\n",
    "cm1_display = ConfusionMatrixDisplay(confusion_matrix = cm1)\n",
    "cm1_display.plot()\n",
    "plt.show()"
   ]
  },
  {
   "cell_type": "markdown",
   "metadata": {},
   "source": [
    "#### Wrapper"
   ]
  },
  {
   "cell_type": "code",
   "execution_count": null,
   "metadata": {},
   "outputs": [],
   "source": [
    "# Modelo para tunning\n",
    "XGB = GradientBoostingClassifier(\n",
    "    random_state= 123\n",
    ")\n",
    "\n",
    "grid_search = GridSearchCV(XGB, parameters, scoring = 'roc_auc', cv=5, n_jobs=-1)\n",
    "\n",
    "# Iniciamos la busqueda\n",
    "grid_result = grid_search.fit(X_train_XGB_wrap, y_train)\n",
    "\n",
    "print('Best Params: ', grid_result.best_params_)\n",
    "print('Best Score: ', grid_result.best_score_)"
   ]
  },
  {
   "cell_type": "code",
   "execution_count": null,
   "metadata": {},
   "outputs": [],
   "source": [
    "print('Características usadas en el entrenamiento: ', grid_result.best_estimator_.feature_names_in_)\n",
    "print('Importancia de las carcaterísticas: ', grid_result.best_estimator_.feature_importances_)"
   ]
  },
  {
   "cell_type": "code",
   "execution_count": null,
   "metadata": {},
   "outputs": [],
   "source": [
    "# Métricas de desempeño\n",
    "# ==============================================================================\n",
    "print (\"Train - Accuracy :\", metrics.accuracy_score(y_train, XGB_optimo.predict(X_train_XGB_wrap)))\n",
    "print (\"Train - classification report:\\n\", metrics.classification_report(y_train, XGB_optimo.predict(X_train_XGB_wrap)))\n",
    "print (\"Test - Accuracy :\", metrics.accuracy_score(y_test, XGB_optimo.predict(X_test_XGB_wrap)))\n",
    "print (\"Test - classification report :\", metrics.classification_report(y_test, XGB_optimo.predict(X_test_XGB_wrap)))"
   ]
  },
  {
   "cell_type": "code",
   "execution_count": null,
   "metadata": {},
   "outputs": [],
   "source": [
    "# Matriz de confusion\n",
    "cm1= confusion_matrix(y_test, XGB_optimo.predict(X_test_XGB_wrap))\n",
    "# Visualización de la matriz de confusion\n",
    "cm1_display = ConfusionMatrixDisplay(confusion_matrix = cm1)\n",
    "cm1_display.plot()\n",
    "plt.show()"
   ]
  }
 ],
 "metadata": {
  "kernelspec": {
   "display_name": "base",
   "language": "python",
   "name": "python3"
  },
  "language_info": {
   "codemirror_mode": {
    "name": "ipython",
    "version": 3
   },
   "file_extension": ".py",
   "mimetype": "text/x-python",
   "name": "python",
   "nbconvert_exporter": "python",
   "pygments_lexer": "ipython3",
   "version": "3.10.9"
  }
 },
 "nbformat": 4,
 "nbformat_minor": 2
}
